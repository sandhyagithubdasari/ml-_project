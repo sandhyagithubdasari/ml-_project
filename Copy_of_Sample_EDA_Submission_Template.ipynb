{
  "nbformat": 4,
  "nbformat_minor": 0,
  "metadata": {
    "colab": {
      "private_outputs": true,
      "provenance": [],
      "collapsed_sections": [
        "vncDsAP0Gaoa",
        "FJNUwmbgGyua",
        "w6K7xa23Elo4",
        "yQaldy8SH6Dl",
        "PH-0ReGfmX4f",
        "mDgbUHAGgjLW",
        "O_i_v8NEhb9l",
        "HhfV-JJviCcP",
        "Y3lxredqlCYt",
        "3RnN4peoiCZX",
        "x71ZqKXriCWQ",
        "7hBIi_osiCS2",
        "JlHwYmJAmNHm",
        "35m5QtbWiB9F",
        "PoPl-ycgm1ru",
        "H0kj-8xxnORC",
        "nA9Y7ga8ng1Z",
        "PBTbrJXOngz2",
        "u3PMJOP6ngxN",
        "dauF4eBmngu3",
        "bKJF3rekwFvQ",
        "MSa1f5Uengrz",
        "GF8Ens_Soomf",
        "0wOQAZs5pc--",
        "K5QZ13OEpz2H",
        "lQ7QKXXCp7Bj",
        "448CDAPjqfQr",
        "KSlN3yHqYklG",
        "t6dVpIINYklI",
        "ijmpgYnKYklI",
        "-JiQyfWJYklI",
        "EM7whBJCYoAo",
        "fge-S5ZAYoAp",
        "85gYPyotYoAp",
        "RoGjAbkUYoAp",
        "4Of9eVA-YrdM",
        "iky9q4vBYrdO",
        "F6T5p64dYrdO",
        "y-Ehk30pYrdP",
        "bamQiAODYuh1",
        "QHF8YVU7Yuh3",
        "GwzvFGzlYuh3",
        "qYpmQ266Yuh3",
        "OH-pJp9IphqM",
        "bbFf2-_FphqN",
        "_ouA3fa0phqN",
        "Seke61FWphqN",
        "PIIx-8_IphqN",
        "t27r6nlMphqO",
        "r2jJGEOYphqO",
        "b0JNsNcRphqO",
        "BZR9WyysphqO",
        "jj7wYXLtphqO",
        "eZrbJ2SmphqO",
        "rFu4xreNphqO",
        "YJ55k-q6phqO",
        "gCFgpxoyphqP",
        "OVtJsKN_phqQ",
        "lssrdh5qphqQ",
        "U2RJ9gkRphqQ",
        "1M8mcRywphqQ",
        "tgIPom80phqQ",
        "JMzcOPDDphqR",
        "x-EpHcCOp1ci",
        "X_VqEhTip1ck",
        "8zGJKyg5p1ck",
        "PVzmfK_Ep1ck",
        "n3dbpmDWp1ck",
        "ylSl6qgtp1ck",
        "ZWILFDl5p1ck",
        "M7G43BXep1ck",
        "Ag9LCva-p1cl",
        "E6MkPsBcp1cl",
        "2cELzS2fp1cl",
        "3MPXvC8up1cl",
        "NC_X3p0fY2L0",
        "UV0SzAkaZNRQ",
        "YPEH6qLeZNRQ",
        "q29F0dvdveiT",
        "EXh0U9oCveiU",
        "22aHeOlLveiV",
        "JcMwzZxoAimU",
        "8G2x9gOozGDZ",
        "gCX9965dhzqZ",
        "gIfDvo9L0UH2"
      ],
      "include_colab_link": true
    },
    "kernelspec": {
      "name": "python3",
      "display_name": "Python 3"
    },
    "language_info": {
      "name": "python"
    }
  },
  "cells": [
    {
      "cell_type": "markdown",
      "metadata": {
        "id": "view-in-github",
        "colab_type": "text"
      },
      "source": [
        "<a href=\"https://colab.research.google.com/github/sandhyagithubdasari/sample_eda_template_project/blob/dev/Copy_of_Sample_EDA_Submission_Template.ipynb\" target=\"_parent\"><img src=\"https://colab.research.google.com/assets/colab-badge.svg\" alt=\"Open In Colab\"/></a>"
      ]
    },
    {
      "cell_type": "markdown",
      "source": [
        "# **Project Name**   Hotel Booking Analysis - \n",
        "\n"
      ],
      "metadata": {
        "id": "vncDsAP0Gaoa"
      }
    },
    {
      "cell_type": "markdown",
      "source": [
        "##### **Project Type**    - EDA/Regression/Classification/Unsupervised\n",
        "##### **Contribution**    - Individual\n"
      ],
      "metadata": {
        "id": "beRrZCGUAJYm"
      }
    },
    {
      "cell_type": "markdown",
      "source": [
        "# **Project Summary -**"
      ],
      "metadata": {
        "id": "FJNUwmbgGyua"
      }
    },
    {
      "cell_type": "markdown",
      "source": [
        "This project is related to Hotel Booking having two hotel descriptions City Hotel and Resort Hotel. In this dataset contains total rows 119390 and 32 columns. The project is divided into three categories. \n",
        "**'Data Collection' ,'Data cleaning' and manipulation and EDA(Exploratory Data Analysis)**\n",
        " Data collections first step to find different columns which is done by coding **Head(), tail(), info(), describe(), columns() **\n",
        " The unique value of each columns and generate a list in tabular form and also check the dataset type of each columns find some columns not in accurate data types which correct it later done in Data cleaning part and as well as duplicates data items must \n",
        "\n",
        "Before visualizing  any data from the data set we have to do data wrangling. For that, we are checked the null value of all the columns. After checking, when we are getting a column which has more number of null values, dropped that column by using the 'drop' method"
      ],
      "metadata": {
        "id": "F6v_1wHtG2nS"
      }
    },
    {
      "cell_type": "markdown",
      "source": [
        "# **GitHub Link -**"
      ],
      "metadata": {
        "id": "w6K7xa23Elo4"
      }
    },
    {
      "cell_type": "markdown",
      "source": [
        "https://github.com/sandhyagithubdasari/sample_eda_template_project/blob/dev/Sample_EDA_Submission_Template.ipynb"
      ],
      "metadata": {
        "id": "h1o69JH3Eqqn"
      }
    },
    {
      "cell_type": "markdown",
      "source": [
        "# **Problem Statement**\n"
      ],
      "metadata": {
        "id": "yQaldy8SH6Dl"
      }
    },
    {
      "cell_type": "markdown",
      "source": [
        "In this project we are going to analyse Hotel Booking dataset. This dataset contains information of city hotel and resort hotel, and includes information of booking time, length of stay, number of adults, children and/or babies, also have information of avaliable parking space, among other thing.\n",
        "\n",
        "The objective of this project is explore and analyse the data to discover important factors regarding Hotels booking and its attributes."
      ],
      "metadata": {
        "id": "QOrHrbqXaNT2"
      }
    },
    {
      "cell_type": "markdown",
      "source": [
        "**Define Your Business Objective?**\n",
        "\n",
        "\n",
        "Explore and analyse the data to discover important factors that govern the booking"
      ],
      "metadata": {
        "id": "z9SvM6Pt3By_"
      }
    },
    {
      "cell_type": "markdown",
      "source": [
        "# **General Guidelines** : -  "
      ],
      "metadata": {
        "id": "mDgbUHAGgjLW"
      }
    },
    {
      "cell_type": "markdown",
      "source": [
        "1.   Well-structured, formatted, and commented code is required. \n",
        "2.   Exception Handling, Production Grade Code & Deployment Ready Code will be a plus. Those students will be awarded some additional credits. \n",
        "     \n",
        "     The additional credits will have advantages over other students during Star Student selection.\n",
        "       \n",
        "             [ Note: - Deployment Ready Code is defined as, the whole .ipynb notebook should be executable in one go\n",
        "                       without a single error logged. ]\n",
        "\n",
        "3.   Each and every logic should have proper comments.\n",
        "4. You may add as many number of charts you want. Make Sure for each and every chart the following format should be answered.\n",
        "        \n",
        "\n",
        "```\n",
        "# Chart visualization code\n",
        "```\n",
        "            \n",
        "\n",
        "*   Why did you pick the specific chart?\n",
        "*   What is/are the insight(s) found from the chart?\n",
        "* Will the gained insights help creating a positive business impact? \n",
        "Are there any insights that lead to negative growth? Justify with specific reason.\n",
        "\n",
        "5. You have to create at least 20 logical & meaningful charts having important insights.\n",
        "\n",
        "\n",
        "**EDA carries 3 steps:**\n",
        "\n",
        "U - Univariate Analysis\n",
        "\n",
        "B - Bivariate Analysis (Numerical - Categorical, Numerical - Numerical, Categorical - Categorical)\n",
        "\n",
        "M - Multivariate Analysis\n",
        " \n",
        "\n",
        "\n",
        "\n"
      ],
      "metadata": {
        "id": "ZrxVaUj-hHfC"
      }
    },
    {
      "cell_type": "markdown",
      "source": [],
      "metadata": {
        "id": "gtNhTmIDcBxW"
      }
    },
    {
      "cell_type": "markdown",
      "source": [
        "# ***Let's Begin !***"
      ],
      "metadata": {
        "id": "O_i_v8NEhb9l"
      }
    },
    {
      "cell_type": "markdown",
      "source": [
        "## ***1. Know Your Data***"
      ],
      "metadata": {
        "id": "HhfV-JJviCcP"
      }
    },
    {
      "cell_type": "markdown",
      "source": [
        "### Import Libraries"
      ],
      "metadata": {
        "id": "Y3lxredqlCYt"
      }
    },
    {
      "cell_type": "code",
      "source": [
        "# Import Libraries\n",
        "import numpy as np\n",
        "import pandas as pd\n",
        "import matplotlib.pyplot as plt\n",
        "%matplotlib inline\n",
        "from datetime import datetime\n",
        "import seaborn as sns\n",
        "import ast "
      ],
      "metadata": {
        "id": "M8Vqi-pPk-HR"
      },
      "execution_count": null,
      "outputs": []
    },
    {
      "cell_type": "code",
      "source": [
        "from google.colab import drive\n",
        "drive.mount('/content/drive')"
      ],
      "metadata": {
        "id": "Ao-q-of3TLjK"
      },
      "execution_count": null,
      "outputs": []
    },
    {
      "cell_type": "markdown",
      "source": [
        "DATASET LINK : - https://drive.google.com/file/d/1C9AxF9fcVzMw0Bgs0NaRrNML2WwX1Ehm/view?usp=sharing"
      ],
      "metadata": {
        "id": "RLEkaHsbTl0y"
      }
    },
    {
      "cell_type": "markdown",
      "source": [
        "### Dataset Loading"
      ],
      "metadata": {
        "id": "3RnN4peoiCZX"
      }
    },
    {
      "cell_type": "code",
      "source": [
        "# Load Dataset\n",
        "database = \"/content/drive/MyDrive/AlmaBetter/Colab Notebooks/Hotel Bookings.csv\" \n",
        "hotel_booking =pd.read_csv(database)\n",
        "\n",
        "\n"
      ],
      "metadata": {
        "id": "4CkvbW_SlZ_R"
      },
      "execution_count": null,
      "outputs": []
    },
    {
      "cell_type": "markdown",
      "source": [
        "### Dataset First view\n"
      ],
      "metadata": {
        "id": "x71ZqKXriCWQ"
      }
    },
    {
      "cell_type": "code",
      "source": [
        "# Dataset First Look\n",
        "hotel_booking"
      ],
      "metadata": {
        "id": "LWNFOSvLl09H"
      },
      "execution_count": null,
      "outputs": []
    },
    {
      "cell_type": "markdown",
      "source": [
        "### Dataset Rows & Columns count"
      ],
      "metadata": {
        "id": "7hBIi_osiCS2"
      }
    },
    {
      "cell_type": "code",
      "source": [
        "# Dataset Rows & Columns count\n",
        "print(hotel_booking.shape)\n",
        "print('\\n')\n",
        "print(hotel_booking.columns)"
      ],
      "metadata": {
        "id": "Kllu7SJgmLij"
      },
      "execution_count": null,
      "outputs": []
    },
    {
      "cell_type": "markdown",
      "source": [
        "### Dataset Information"
      ],
      "metadata": {
        "id": "JlHwYmJAmNHm"
      }
    },
    {
      "cell_type": "code",
      "source": [
        "# Dataset Info\n",
        "hotel_booking.info()"
      ],
      "metadata": {
        "id": "e9hRXRi6meOf"
      },
      "execution_count": null,
      "outputs": []
    },
    {
      "cell_type": "markdown",
      "source": [
        "#### Duplicate Values"
      ],
      "metadata": {
        "id": "35m5QtbWiB9F"
      }
    },
    {
      "cell_type": "code",
      "source": [
        "# Dataset Duplicate Value Count\n",
        "hotel_booking.drop_duplicates(inplace = True)\n",
        "\n",
        "# total rows = 119390, Duplicate Rows = 31994\n",
        "uni_num_of_rows = hotel_booking.shape[0]\n",
        "\n",
        "uni_num_of_rows # now unique rows = 87396"
      ],
      "metadata": {
        "id": "1sLdpKYkmox0"
      },
      "execution_count": null,
      "outputs": []
    },
    {
      "cell_type": "markdown",
      "source": [
        "#### Missing Values/Null Values"
      ],
      "metadata": {
        "id": "PoPl-ycgm1ru"
      }
    },
    {
      "cell_type": "code",
      "source": [
        "# Missing Values/Null Values Count\n",
        "null_value = hotel_booking.isnull() == True\n",
        "hotel_booking.fillna(np.nan, inplace = True)\n",
        "\n",
        "\n",
        "hotel_booking # we replace all the null value as NaN."
      ],
      "metadata": {
        "id": "GgHWkxvamxVg"
      },
      "execution_count": null,
      "outputs": []
    },
    {
      "cell_type": "code",
      "source": [
        "# Visualizing the missing values\n",
        "miss_values =hotel_booking.isnull().sum()\n",
        "miss_values # We have check the count of null value in individual columns"
      ],
      "metadata": {
        "id": "3q5wnI3om9sJ"
      },
      "execution_count": null,
      "outputs": []
    },
    {
      "cell_type": "markdown",
      "source": [
        "**What did you know about your dataset?**"
      ],
      "metadata": {
        "id": "s_IS5E0OjzAT"
      }
    },
    {
      "cell_type": "markdown",
      "source": [
        "\n",
        " The dataset contains a total of 119390 rows and 32 columns.Dataset Contains duplicated items i.e 31944 which is removed later .In this datasetData collections first step to find different columns which is done by coding Head(), tail(), info(), describe(), columns() and some others method used for data collections, some of the columns name is updated here "
      ],
      "metadata": {
        "id": "H0kj-8xxnORC"
      }
    },
    {
      "cell_type": "markdown",
      "source": [
        "## ***2. Understanding Your Variables***"
      ],
      "metadata": {
        "id": "nA9Y7ga8ng1Z"
      }
    },
    {
      "cell_type": "code",
      "source": [
        "# Dataset Columns\n",
        "df_column = hotel_booking.columns\n",
        "df_column"
      ],
      "metadata": {
        "id": "j7xfkqrt5Ag5"
      },
      "execution_count": null,
      "outputs": []
    },
    {
      "cell_type": "code",
      "source": [
        "# Dataset Describe\n",
        "hotel_booking.describe()"
      ],
      "metadata": {
        "id": "DnOaZdaE5Q5t"
      },
      "execution_count": null,
      "outputs": []
    },
    {
      "cell_type": "markdown",
      "source": [
        "### Variables Description \n",
        "Description of individual Variable\n",
        "The columns and the data it represents are listed below:\n",
        "\n",
        "  1.hotel : Name of the hotel (Resort Hotel or City Hotel)\n",
        "\n",
        "  2.is_canceled : If the booking was canceled (1) or not (0)\n",
        "\n",
        "  3.lead_time: Number of days before the actual arrival of the guests\n",
        " \n",
        "  4.arrival_date_year : Year of arrival date\n",
        "\n",
        "  5.arrival_date_month : Month of month arrival date\n",
        "\n",
        " 6.arrival_date_week_number : Week number of year for arrival date\n",
        "\n",
        " 7.arrival_date_day_of_month : Day of arrival date\n",
        "\n",
        " 8.stays_in_weekend_nights : Number of weekend nights (Saturday or Sunday) spent at the hotel by the guests.\n",
        "\n",
        " 9.stays_in_week_nights : Number of weeknights (Monday to Friday) spent at the hotel by the guests.\n",
        "\n",
        "10.adults : Number of adults among guests\n",
        "\n",
        "11.children : Number of children among guests\n",
        "\n",
        "12.babies : Number of babies among guests\n",
        "\n",
        "13.meal : Type of meal booked\n",
        "\n",
        "14.country : Country of guests\n",
        "\n",
        "15.market_segment : Designation of market segment\n",
        "\n",
        "16.distribution_channel : Name of booking distribution channel\n",
        "\n",
        "17.is_repeated_guest : If the booking was from a repeated guest (1) or not (0)\n",
        "\n",
        "18.previous_cancellations : Number of previous bookings that were cancelled by the customer prior to the current booking\n",
        "\n",
        "19.previous_bookings_not_canceled : Number of previous bookings not cancelled by the customer prior to the current booking\n",
        "\n",
        "20.reserved_room_type : Code of room type reserved\n",
        "\n",
        "21.assigned_room_type : Code of room type assigned\n",
        "\n",
        "22.booking_changes : Number of changes/amendments made to the booking\n",
        "\n",
        "23.deposit_type : Type of the deposit made by the guest\n",
        "\n",
        "24.agent : ID of travel agent who made the booking\n",
        "\n",
        "25.company : ID of the company that made the booking\n",
        "\n",
        "26.days_in_waiting_list : Number of days the booking was in the waiting list\n",
        "\n",
        "27.customer_type : Type of customer, assuming one of four categories\n",
        "\n",
        "28.adr : Average Daily Rate, as defined by dividing the sum of all lodging transactions by the total number of staying nights\n",
        "\n",
        "29.required_car_parking_spaces : Number of car parking spaces required by the customer\n",
        "\n",
        "30.total_of_special_requests : Number of special requests made by the customer\n",
        "\n",
        "31.reservation_status : Reservation status (Canceled, Check-Out or No-Show)\n",
        "\n",
        "32.reservation_status_date : Date at which the last reservation status was updated"
      ],
      "metadata": {
        "id": "PBTbrJXOngz2"
      }
    },
    {
      "cell_type": "markdown",
      "source": [
        "### Check Unique Values for each variable."
      ],
      "metadata": {
        "id": "u3PMJOP6ngxN"
      }
    },
    {
      "cell_type": "code",
      "source": [
        "# Check Unique Values for each variable.\n",
        "# We have describes unique value in all individual column.\n",
        "print(hotel_booking.apply(lambda col: col.unique())) # We have describes unique value in all individual column."
      ],
      "metadata": {
        "id": "zms12Yq5n-jE"
      },
      "execution_count": null,
      "outputs": []
    },
    {
      "cell_type": "markdown",
      "source": [
        "## 3. ***Data Wrangling***"
      ],
      "metadata": {
        "id": "dauF4eBmngu3"
      }
    },
    {
      "cell_type": "markdown",
      "source": [
        "### Data Cleaning"
      ],
      "metadata": {
        "id": "bKJF3rekwFvQ"
      }
    },
    {
      "cell_type": "code",
      "source": [
        "#to fill the NaN value in the column, let's check which colomns has null value, we have already stored the same.\n",
        "miss_values[:5]"
      ],
      "metadata": {
        "id": "wk-9a2fpoLcV"
      },
      "execution_count": null,
      "outputs": []
    },
    {
      "cell_type": "code",
      "source": [
        "#lets check, what is the percentage of null value in each column, starting from company\n",
        "\n",
        "percentage_company_null = miss_values[0] / uni_num_of_rows*100\n",
        "percentage_company_null"
      ],
      "metadata": {
        "id": "6Mf-Vpjxul8K"
      },
      "execution_count": null,
      "outputs": []
    },
    {
      "cell_type": "code",
      "source": [
        "# It is better to drop the column 'company' altogether since the number of missing values is extremely high compared to the number of rows.\n",
        "\n",
        "hotel_booking.drop(['company'], axis=1, inplace=True)\n"
      ],
      "metadata": {
        "id": "9f-Yd7IZuv8v"
      },
      "execution_count": null,
      "outputs": []
    },
    {
      "cell_type": "code",
      "source": [
        "# now let's check for agent\n",
        "\n",
        "percentage_agent_null = miss_values[1] / uni_num_of_rows*100\n",
        "percentage_agent_null"
      ],
      "metadata": {
        "id": "0y2VNqAVuyTY"
      },
      "execution_count": null,
      "outputs": []
    },
    {
      "cell_type": "code",
      "source": [
        "# As we have seen, there is minimul null values in agent, Lets fill these value by taking mode of the all values\n",
        "\n",
        "hotel_booking['agent'].fillna(value = 0, inplace = True)\n",
        "hotel_booking['agent'].isnull().sum() # we re-check that column has no null value"
      ],
      "metadata": {
        "id": "clzly1yyu5uB"
      },
      "execution_count": null,
      "outputs": []
    },
    {
      "cell_type": "code",
      "source": [
        "#Check the percentage null value in country col\n",
        "\n",
        "percentage_country_null = miss_values[2] / uni_num_of_rows*100\n",
        "percentage_country_null"
      ],
      "metadata": {
        "id": "ux-KH8nru8Ip"
      },
      "execution_count": null,
      "outputs": []
    },
    {
      "cell_type": "code",
      "source": [
        "# We have less null vlues in country col, so we will replace null from 'other' as country name.\n",
        "\n",
        "hotel_booking['country'].fillna(value = 'others', inplace = True)\n",
        "hotel_booking['country'].isnull().sum() # we re-check that column has no null value"
      ],
      "metadata": {
        "id": "MkDICVgRvCPC"
      },
      "execution_count": null,
      "outputs": []
    },
    {
      "cell_type": "code",
      "source": [
        "#Check the percentage null value in children col\n",
        "\n",
        "percentage_children_null = miss_values[3] / uni_num_of_rows*100\n",
        "percentage_children_null"
      ],
      "metadata": {
        "id": "FHB_tpkYvLUo"
      },
      "execution_count": null,
      "outputs": []
    },
    {
      "cell_type": "markdown",
      "source": [
        "**Change in datatype for required columns**"
      ],
      "metadata": {
        "id": "9LwwPLX4v8bh"
      }
    },
    {
      "cell_type": "code",
      "source": [
        "# We have less null vlues in country col, so we will replace null from 0 as country name.\n",
        "\n",
        "hotel_booking['children'].fillna(value = 0, inplace = True)\n",
        "hotel_booking['children'].isnull().sum() # we re-check that column has no null value"
      ],
      "metadata": {
        "id": "yHanAxKyvQkY"
      },
      "execution_count": null,
      "outputs": []
    },
    {
      "cell_type": "code",
      "source": [
        "#showing the info of the data to check datatype\n",
        "hotel_booking.info()"
      ],
      "metadata": {
        "id": "yl4dWfX8v2UC"
      },
      "execution_count": null,
      "outputs": []
    },
    {
      "cell_type": "code",
      "source": [
        " #We have seen that childer & agent column as datatype as float whereas it contains only int value, lets change datatype as 'int64'\n",
        "hotel_booking[['children', 'agent']] = hotel_booking[['children', 'agent']].astype('int64')"
      ],
      "metadata": {
        "id": "9xR_oW1PwNen"
      },
      "execution_count": null,
      "outputs": []
    },
    {
      "cell_type": "markdown",
      "source": [
        "**Addition of new column as per requirement**"
      ],
      "metadata": {
        "id": "ahF4ujEjwUnI"
      }
    },
    {
      "cell_type": "code",
      "source": [
        "#total stay in nights\n",
        "hotel_booking['total_stay_in_nights'] = hotel_booking ['stays_in_week_nights'] + hotel_booking ['stays_in_weekend_nights']\n",
        "hotel_booking['total_stay_in_nights'] # We have created a col for total stays in nights by adding week night & weekend nights stay col."
      ],
      "metadata": {
        "id": "olP2dDTmwQ9P"
      },
      "execution_count": null,
      "outputs": []
    },
    {
      "cell_type": "code",
      "source": [
        "# We have created a col for revenue using total stay * adr\n",
        "hotel_booking['revenue'] = hotel_booking['total_stay_in_nights'] *hotel_booking['adr']\n",
        "hotel_booking['revenue']\n"
      ],
      "metadata": {
        "id": "a1Rr0Q87wddY"
      },
      "execution_count": null,
      "outputs": []
    },
    {
      "cell_type": "code",
      "source": [
        "# Also, for information, we will add a column with total guest coming for each booking\n",
        "hotel_booking['total_guest'] = hotel_booking['adults'] + hotel_booking['children'] + hotel_booking['babies']\n",
        "hotel_booking['total_guest'].sum()"
      ],
      "metadata": {
        "id": "ko7pLPYJwuro"
      },
      "execution_count": null,
      "outputs": []
    },
    {
      "cell_type": "code",
      "source": [
        "# for understanding, from col 'is_canceled': we will replace the value from (0,1) to not_canceled, is canceled.\n",
        "\n",
        "hotel_booking['is_canceled'] = hotel_booking['is_canceled'].replace([0,1], ['not canceled', 'is canceled'])\n",
        "hotel_booking['is_canceled']"
      ],
      "metadata": {
        "id": "jrPUn9RBw1DJ"
      },
      "execution_count": null,
      "outputs": []
    },
    {
      "cell_type": "code",
      "source": [
        "#Same for 'is_repeated_guest' col\n",
        "hotel_booking['is_repeated_guest'] = hotel_booking['is_repeated_guest'].replace([0,1], ['not repeated', 'repeated'])\n",
        "hotel_booking['is_repeated_guest']"
      ],
      "metadata": {
        "id": "_70RsWg_w6XR"
      },
      "execution_count": null,
      "outputs": []
    },
    {
      "cell_type": "code",
      "source": [
        "#Now, we will check overall revenue hotel wise\n",
        "hotel_wise_total_revenue = hotel_booking.groupby('hotel')['revenue'].sum()\n",
        "hotel_wise_total_revenue"
      ],
      "metadata": {
        "id": "idCAqsAMw8b3"
      },
      "execution_count": null,
      "outputs": []
    },
    {
      "cell_type": "code",
      "source": [
        "hotel_booking[['hotel', \"revenue\"]]"
      ],
      "metadata": {
        "id": "bK3bxzN0xAuI"
      },
      "execution_count": null,
      "outputs": []
    },
    {
      "cell_type": "markdown",
      "source": [
        "### What all manipulations have you done and insights you found?"
      ],
      "metadata": {
        "id": "MSa1f5Uengrz"
      }
    },
    {
      "cell_type": "markdown",
      "source": [
        "I have done few manipulations in the Data.\n",
        "\n",
        "----Addition of columns----\n",
        "\n",
        "I have seen that there are few columns required in Data to analysis purpose which can be evaluated from the given columns.\n",
        "\n",
        "a) Total Guests: This columns will help us to evaluate the volumes of total guest and revenue as well.  get this value by adding total no. of Adults, Children & babies.\n",
        "\n",
        "b) Revenue:  find revenue by multiplying adr & total guest. This column will use to analyse the profit and growth of each hotel.\n",
        "\n",
        "----Delete of columns----\n",
        "\n",
        "a)company: As we have seen that this columns has almost Null data. so we have delete this column as this will not make any impact in the analysis.\n",
        "\n",
        "----Replace of Values in columns----\n",
        "\n",
        "a)is_canceled, is_not_canceled & is_repeated_guest: We have seen, that these columns contains only 0,1 as values which represent the status of booing cancellation. We replace these values (0,1) from 'Canceled' & 'Not canceled. In the same way for column 'is_repeated_guest', we replace 0,1 from 'Repeated' & 'Not repeated'. Now this values will help to make better understanding while visulization.\n",
        "\n",
        "----Changes in data type of values in columns----\n",
        "\n",
        "a)Agent & Children: We checked that these columns contains float values, which is not making any sense in data as this values repreasent the count of guest & ID of agent. So we have changed the data type of these columns from 'float' to 'Integer'.\n",
        "\n",
        "----Removed is_null values & duplicate entries----\n",
        "\n",
        "a)Before visualize any data from the data set we have to do data wrangling. For that, we have checked the null value in all the columns. After checking, when we are getting a column which has more number of null values, dropped that column by using the 'drop' method. In this way, we are dropped the 'company' column. When we are find minimal number of null values, filling thse null values with necesary values as per requirement by using .fillna().\n",
        "\n",
        "b) In the same, we have checked if there is any duplicacy in data & we found that there are few rows have duplicate data. So we have removed those row from data set by using .drop_duplicates() method.\n",
        "\n",
        "In this way, we have removed unneccesary data & make our data clean and ready to analyse.\n",
        "\n"
      ],
      "metadata": {
        "id": "LbyXE7I1olp8"
      }
    },
    {
      "cell_type": "markdown",
      "source": [
        "## ***4. Data Vizualization, Storytelling & Experimenting with charts : Understand the relationships between variables***"
      ],
      "metadata": {
        "id": "GF8Ens_Soomf"
      }
    },
    {
      "cell_type": "markdown",
      "source": [
        "Univariate Analysis"
      ],
      "metadata": {
        "id": "ChkNOTIWfNgZ"
      }
    },
    {
      "cell_type": "markdown",
      "source": [
        "#### Chart - 1"
      ],
      "metadata": {
        "id": "0wOQAZs5pc--"
      }
    },
    {
      "cell_type": "markdown",
      "source": [
        "1.Which type of hotel  is mostly preferred by guest ?"
      ],
      "metadata": {
        "id": "x6g8aW8AnYx7"
      }
    },
    {
      "cell_type": "code",
      "source": [
        "# Chart - 1 visualization code\n",
        "hotel_value_counts = hotel_booking['hotel'].value_counts()\n",
        "hotel_value_counts"
      ],
      "metadata": {
        "id": "ThaRN6X6nrCa"
      },
      "execution_count": null,
      "outputs": []
    },
    {
      "cell_type": "code",
      "source": [
        "# piechart is used for visualization\n",
        "hotel_value_counts.plot.pie(explode=[0.03, 0.03], autopct='%1.2f%%', shadow=True, figsize=(10,7),fontsize=20)   \n",
        "plt.title('pie Chart for Most Preffered  Hotel',fontsize = 20)\n",
        "plt.show()"
      ],
      "metadata": {
        "id": "4CVpTkBOn8Ch"
      },
      "execution_count": null,
      "outputs": []
    },
    {
      "cell_type": "markdown",
      "source": [
        "##### 1. Why did you pick the specific chart?"
      ],
      "metadata": {
        "id": "K5QZ13OEpz2H"
      }
    },
    {
      "cell_type": "markdown",
      "source": [
        "I used pie chart because its gives simple and easy to understand and to present the data that in which hotel more booking have been done."
      ],
      "metadata": {
        "id": "XESiWehPqBRc"
      }
    },
    {
      "cell_type": "markdown",
      "source": [
        "##### 2. What is/are the insight(s) found from the chart?"
      ],
      "metadata": {
        "id": "lQ7QKXXCp7Bj"
      }
    },
    {
      "cell_type": "markdown",
      "source": [
        "Here, I found that City Hotel has more booking which is 61.12% than Resort Hotel which is 38.87%."
      ],
      "metadata": {
        "id": "C_j1G7yiqdRP"
      }
    },
    {
      "cell_type": "markdown",
      "source": [
        "##### 3. Will the gained insights help creating a positive business impact? \n",
        "Are there any insights that lead to negative growth? Justify with specific reason."
      ],
      "metadata": {
        "id": "448CDAPjqfQr"
      }
    },
    {
      "cell_type": "markdown",
      "source": [
        "Yes, for both Hotels, this data making some positive business impact : -\n",
        "\n",
        "City Hotel can find services to attract more guest to increase more revenue.\n",
        "\n",
        "Resort Hotel can  Find solution to attract guest and find what city hotel did to attract guest.\n",
        "\n",
        "\n",
        "\n"
      ],
      "metadata": {
        "id": "3cspy4FjqxJW"
      }
    },
    {
      "cell_type": "markdown",
      "source": [
        "#### Chart - 2"
      ],
      "metadata": {
        "id": "KSlN3yHqYklG"
      }
    },
    {
      "cell_type": "markdown",
      "source": [
        "Which agent made the most bookings ?"
      ],
      "metadata": {
        "id": "LNnxpFajn7pV"
      }
    },
    {
      "cell_type": "code",
      "source": [
        "# Chart - 2 visualization code\n",
        "top_bookings_by_agent = hotel_booking['agent'].value_counts().reset_index().rename(columns={'index':'agent','agent':'num_of_bookings'})[:10]\n",
        "top_bookings_by_agent\n",
        "     "
      ],
      "metadata": {
        "id": "_ASRyvUioIUk"
      },
      "execution_count": null,
      "outputs": []
    },
    {
      "cell_type": "code",
      "source": [
        "#for visualization barplot is used:\n",
        "plt.figure(figsize=(18,7))\n",
        "sns.barplot(x=top_bookings_by_agent['agent'],y=top_bookings_by_agent['num_of_bookings'],order=top_bookings_by_agent['agent'])\n",
        "plt.title('Most bookings by the agent', fontsize=20)\n",
        "plt.ylabel('Number of bookings', fontsize=17)\n",
        "plt.xlabel('Agent number', fontsize=17)\n",
        "plt.show()"
      ],
      "metadata": {
        "id": "p4s1_WN_ocZk"
      },
      "execution_count": null,
      "outputs": []
    },
    {
      "cell_type": "markdown",
      "source": [
        "##### 1. Why did you pick the specific chart?"
      ],
      "metadata": {
        "id": "t6dVpIINYklI"
      }
    },
    {
      "cell_type": "markdown",
      "source": [
        "I choosen barplot beacuse it gives data visualization in pictorical form and data comparison is easy"
      ],
      "metadata": {
        "id": "5aaW0BYyYklI"
      }
    },
    {
      "cell_type": "markdown",
      "source": [
        "##### 2. What is/are the insight(s) found from the chart?"
      ],
      "metadata": {
        "id": "ijmpgYnKYklI"
      }
    },
    {
      "cell_type": "markdown",
      "source": [
        "Here I found that agent no 9 has no of bookings"
      ],
      "metadata": {
        "id": "PSx9atu2YklI"
      }
    },
    {
      "cell_type": "markdown",
      "source": [
        "##### 3. Will the gained insights help creating a positive business impact? \n",
        "Are there any insights that lead to negative growth? Justify with specific reason."
      ],
      "metadata": {
        "id": "-JiQyfWJYklI"
      }
    },
    {
      "cell_type": "markdown",
      "source": [
        "Yes, Agent no.9, 240 has more bookings which makes positive impact.\n",
        "Agent no. 1 and 6 has less bookings which makes negative impact.\n",
        "Booking made by agent 9 is highest as compared to agent no 1 and 6 are 4.27%\n",
        "\n"
      ],
      "metadata": {
        "id": "BcBbebzrYklV"
      }
    },
    {
      "cell_type": "markdown",
      "source": [
        "#### Chart - 3"
      ],
      "metadata": {
        "id": "EM7whBJCYoAo"
      }
    },
    {
      "cell_type": "markdown",
      "source": [
        "What is most preferred room by customers ?"
      ],
      "metadata": {
        "id": "FmJl8NrXq2aV"
      }
    },
    {
      "cell_type": "code",
      "source": [
        "room_type = hotel_booking['assigned_room_type'].value_counts()\n",
        "room_type"
      ],
      "metadata": {
        "id": "-0P5HW7OrFak"
      },
      "execution_count": null,
      "outputs": []
    },
    {
      "cell_type": "code",
      "source": [
        "# for visualization countplot is used\n",
        "plt.figure(figsize=(14,7))\n",
        "sns.countplot(x=hotel_booking['assigned_room_type'],order=hotel_booking['assigned_room_type'].value_counts().index)\n",
        "plt.title(\"Most preferred Room type\", fontsize = 20)\n",
        "plt.xlabel('Type of the Room', fontsize = 15)\n",
        "plt.ylabel('Room type count', fontsize = 15)\n",
        "plt.show()\n",
        "     \n"
      ],
      "metadata": {
        "id": "SA7VduORrUI6"
      },
      "execution_count": null,
      "outputs": []
    },
    {
      "cell_type": "markdown",
      "source": [
        "##### 1. Why did you pick the specific chart?"
      ],
      "metadata": {
        "id": "fge-S5ZAYoAp"
      }
    },
    {
      "cell_type": "markdown",
      "source": [
        "The countplot displays the count of each category and here we have to represent the room type vs room type count\n"
      ],
      "metadata": {
        "id": "5dBItgRVYoAp"
      }
    },
    {
      "cell_type": "markdown",
      "source": [
        "##### 2. What is/are the insight(s) found from the chart?"
      ],
      "metadata": {
        "id": "85gYPyotYoAp"
      }
    },
    {
      "cell_type": "markdown",
      "source": [
        "The chart 'A' type most prefered room and count is 46283  and chart 'D' type most preferred  guest room and count is 22419"
      ],
      "metadata": {
        "id": "4jstXR6OYoAp"
      }
    },
    {
      "cell_type": "markdown",
      "source": [
        "##### 3. Will the gained insights help creating a positive business impact? \n",
        "Are there any insights that lead to negative growth? Justify with specific reason."
      ],
      "metadata": {
        "id": "RoGjAbkUYoAp"
      }
    },
    {
      "cell_type": "markdown",
      "source": [
        "A type room are most prefered it makes positive impact on business\n",
        "H,I,K,L type rooms are less preferred this it makes negative impact.\n"
      ],
      "metadata": {
        "id": "zfJ8IqMcYoAp"
      }
    },
    {
      "cell_type": "markdown",
      "source": [
        "#### Chart - 4"
      ],
      "metadata": {
        "id": "4Of9eVA-YrdM"
      }
    },
    {
      "cell_type": "markdown",
      "source": [
        "What is percentage of repeated guest?"
      ],
      "metadata": {
        "id": "yupktYlNwESQ"
      }
    },
    {
      "cell_type": "code",
      "source": [
        "repeated_guests_count = hotel_booking['is_repeated_guest'].value_counts()\n",
        "repeated_guests_count"
      ],
      "metadata": {
        "id": "Dl2XMN9fwRP4"
      },
      "execution_count": null,
      "outputs": []
    },
    {
      "cell_type": "code",
      "source": [
        "# pie chart is used for visualization\n",
        "repeated_guests_count.plot.pie(explode=[0.03, 0.03], autopct='%1.2f%%', shadow=True, figsize=(10,7),fontsize=20)\n",
        "plt.title('Percentage of repeated guests ',fontsize = 20)\n",
        "     "
      ],
      "metadata": {
        "id": "56T1Ej-zwvGN"
      },
      "execution_count": null,
      "outputs": []
    },
    {
      "cell_type": "markdown",
      "source": [
        "##### 1. Why did you pick the specific chart?"
      ],
      "metadata": {
        "id": "iky9q4vBYrdO"
      }
    },
    {
      "cell_type": "markdown",
      "source": [
        "I choose pie chart because it gives simple and easy understanding  for repeated guest"
      ],
      "metadata": {
        "id": "aJRCwT6DYrdO"
      }
    },
    {
      "cell_type": "markdown",
      "source": [
        "##### 2. What is/are the insight(s) found from the chart?"
      ],
      "metadata": {
        "id": "F6T5p64dYrdO"
      }
    },
    {
      "cell_type": "markdown",
      "source": [
        "The insights shows the repeated guest is 3.91% and not repeated guest is 96.09%"
      ],
      "metadata": {
        "id": "Xx8WAJvtYrdO"
      }
    },
    {
      "cell_type": "markdown",
      "source": [
        "##### 3. Will the gained insights help creating a positive business impact? \n",
        "Are there any insights that lead to negative growth? Justify with specific reason."
      ],
      "metadata": {
        "id": "y-Ehk30pYrdP"
      }
    },
    {
      "cell_type": "markdown",
      "source": [
        "Yes, the gained insights help creating a positive business impact like the hotels which do not booked repetadly by guests can take feedbacks from the guests and try to impove there services."
      ],
      "metadata": {
        "id": "jLNxxz7MYrdP"
      }
    },
    {
      "cell_type": "markdown",
      "source": [
        "#### Chart - 5"
      ],
      "metadata": {
        "id": "bamQiAODYuh1"
      }
    },
    {
      "cell_type": "markdown",
      "source": [
        "What type of food is mostly preferred by guest ?"
      ],
      "metadata": {
        "id": "JlpL8WJnAopr"
      }
    },
    {
      "cell_type": "code",
      "source": [
        "preferred_food = hotel_booking['meal'].value_counts()\n",
        "preferred_food"
      ],
      "metadata": {
        "id": "AidaEmK8BJZ7"
      },
      "execution_count": null,
      "outputs": []
    },
    {
      "cell_type": "code",
      "source": [
        "\n",
        "# Visualization of most preferred food using countplot\n",
        "plt.figure(figsize=(14,7))\n",
        "sns.countplot(x= hotel_booking['meal'],order= hotel_booking['meal'].value_counts().index)\n",
        "plt.title(\"Most preferred Food\", fontsize = 20)\n",
        "plt.xlabel('Type of the food', fontsize = 15)\n",
        "plt.ylabel('Food type count', fontsize = 15)\n",
        "     "
      ],
      "metadata": {
        "id": "Q2wFQ_-lBpWm"
      },
      "execution_count": null,
      "outputs": []
    },
    {
      "cell_type": "markdown",
      "source": [
        "##### 1. Why did you pick the specific chart?"
      ],
      "metadata": {
        "id": "QHF8YVU7Yuh3"
      }
    },
    {
      "cell_type": "markdown",
      "source": [
        "The countplot displays the count of each category and here we have to represent the food  type vs food type count"
      ],
      "metadata": {
        "id": "dcxuIMRPYuh3"
      }
    },
    {
      "cell_type": "markdown",
      "source": [
        "##### 2. What is/are the insight(s) found from the chart?"
      ],
      "metadata": {
        "id": "GwzvFGzlYuh3"
      }
    },
    {
      "cell_type": "markdown",
      "source": [
        "Here BB type food is most preffered as compared to FB type food"
      ],
      "metadata": {
        "id": "uyqkiB8YYuh3"
      }
    },
    {
      "cell_type": "markdown",
      "source": [
        "##### 3. Will the gained insights help creating a positive business impact? \n",
        "Are there any insights that lead to negative growth? Justify with specific reason."
      ],
      "metadata": {
        "id": "qYpmQ266Yuh3"
      }
    },
    {
      "cell_type": "markdown",
      "source": [
        "BB type of food is most preferred food this makes positive impact on business.\n",
        "Undefined and FB type of food is less preferred this insight makes neative impact on business.\n",
        "\n"
      ],
      "metadata": {
        "id": "_WtzZ_hCYuh4"
      }
    },
    {
      "cell_type": "markdown",
      "source": [
        "#### Chart - 6"
      ],
      "metadata": {
        "id": "OH-pJp9IphqM"
      }
    },
    {
      "cell_type": "markdown",
      "source": [
        "Which year has highest booking?"
      ],
      "metadata": {
        "id": "7bTyhRFmVITU"
      }
    },
    {
      "cell_type": "code",
      "source": [
        "year_count = hotel_booking['arrival_date_year'].value_counts().sort_index()\n",
        "year_count"
      ],
      "metadata": {
        "id": "wRou-A43VPGU"
      },
      "execution_count": null,
      "outputs": []
    },
    {
      "cell_type": "code",
      "source": [
        "#countplot chart is used\n",
        "plt.figure(figsize=(14,7))\n",
        "sns.countplot(x=hotel_booking['arrival_date_year'],hue=hotel_booking['hotel'])\n",
        "plt.title('Year wise Bookings', fontsize = 20)\n",
        "plt.xlabel('Arrival_date_year', fontsize = 15)\n",
        "plt.ylabel('Count of bookings', fontsize = 15)"
      ],
      "metadata": {
        "id": "ruvK-MMWVel7"
      },
      "execution_count": null,
      "outputs": []
    },
    {
      "cell_type": "markdown",
      "source": [
        "##### 1. Why did you pick the specific chart?"
      ],
      "metadata": {
        "id": "bbFf2-_FphqN"
      }
    },
    {
      "cell_type": "markdown",
      "source": [
        "To understand easy and simple by countplot\n"
      ],
      "metadata": {
        "id": "loh7H2nzphqN"
      }
    },
    {
      "cell_type": "markdown",
      "source": [
        "##### 2. What is/are the insight(s) found from the chart?"
      ],
      "metadata": {
        "id": "_ouA3fa0phqN"
      }
    },
    {
      "cell_type": "markdown",
      "source": [
        "2016 has higher year booking as compared to 2015"
      ],
      "metadata": {
        "id": "VECbqPI7phqN"
      }
    },
    {
      "cell_type": "markdown",
      "source": [
        "##### 3. Will the gained insights help creating a positive business impact? \n",
        "Are there any insights that lead to negative growth? Justify with specific reason."
      ],
      "metadata": {
        "id": "Seke61FWphqN"
      }
    },
    {
      "cell_type": "markdown",
      "source": [
        "Year 2016 had highest bookings this makes positive impact\n",
        "Year 2015 had lowest bookings this makes negative impact."
      ],
      "metadata": {
        "id": "TL3PqIvdY85r"
      }
    },
    {
      "cell_type": "markdown",
      "source": [
        "Yes, 2016 impact positive beacuse it is high and 2015 impact negative beacuse it is less"
      ],
      "metadata": {
        "id": "DW4_bGpfphqN"
      }
    },
    {
      "cell_type": "markdown",
      "source": [
        "#### Chart - 7"
      ],
      "metadata": {
        "id": "PIIx-8_IphqN"
      }
    },
    {
      "cell_type": "markdown",
      "source": [
        "Which distribution channel is most used for hotel booking ?"
      ],
      "metadata": {
        "id": "DCacIEY5YzK9"
      }
    },
    {
      "cell_type": "code",
      "source": [
        "distribution_channel_counts = hotel_booking['distribution_channel'].value_counts()\n",
        "distribution_channel_counts\n",
        "     "
      ],
      "metadata": {
        "id": "48cl13yWdtrJ"
      },
      "execution_count": null,
      "outputs": []
    },
    {
      "cell_type": "code",
      "source": [
        "# Chart - 7 visualization code\n",
        "guest_month_wise = pd.DataFrame(hotel_booking[['arrival_date_month', 'total_guest']])\n",
        "guest_month_wise_df = guest_month_wise.groupby(['arrival_date_month'])['total_guest'].sum()\n",
        "guest_month_wise_df.sort_values(ascending = False, inplace = True)"
      ],
      "metadata": {
        "id": "lqAIGUfyphqO"
      },
      "execution_count": null,
      "outputs": []
    },
    {
      "cell_type": "code",
      "source": [
        "hotel_booking['total_guest']"
      ],
      "metadata": {
        "id": "3tbfmO6L7jlQ"
      },
      "execution_count": null,
      "outputs": []
    },
    {
      "cell_type": "code",
      "source": [
        "market_segment_df = pd.DataFrame(hotel_booking['market_segment'])\n",
        "market_segment_df_data = market_segment_df.groupby('market_segment')['market_segment'].count()\n",
        "market_segment_df_data.sort_values(ascending = False, inplace = True)\n",
        "plt.figure(figsize=(15,6))\n",
        "y = np.array([4,5,6])\n",
        "market_segment_df_data.plot(kind = 'bar', color=['g', 'r', 'c', 'b', 'y', 'black', 'brown'], fontsize = 20,legend='True')\n"
      ],
      "metadata": {
        "id": "t-6RSXPD7pAC"
      },
      "execution_count": null,
      "outputs": []
    },
    {
      "cell_type": "markdown",
      "source": [
        "##### 1. Why did you pick the specific chart?"
      ],
      "metadata": {
        "id": "t27r6nlMphqO"
      }
    },
    {
      "cell_type": "markdown",
      "source": [
        "\n",
        "In this chart, we have seen market segment by which hotel has booked"
      ],
      "metadata": {
        "id": "iv6ro40sphqO"
      }
    },
    {
      "cell_type": "markdown",
      "source": [
        "##### 2. What is/are the insight(s) found from the chart?"
      ],
      "metadata": {
        "id": "r2jJGEOYphqO"
      }
    },
    {
      "cell_type": "markdown",
      "source": [
        "Online TA has been used most frequently to book hotel by the guest."
      ],
      "metadata": {
        "id": "Po6ZPi4hphqO"
      }
    },
    {
      "cell_type": "markdown",
      "source": [
        "##### 3. Will the gained insights help creating a positive business impact? \n",
        "Are there any insights that lead to negative growth? Justify with specific reason."
      ],
      "metadata": {
        "id": "b0JNsNcRphqO"
      }
    },
    {
      "cell_type": "markdown",
      "source": [
        "Yes, it is creating positive business impact that guests are using Online TA market segment as most prefered to book hotels."
      ],
      "metadata": {
        "id": "xvSq8iUTphqO"
      }
    },
    {
      "cell_type": "markdown",
      "source": [
        "#### Chart - 8"
      ],
      "metadata": {
        "id": "YJ55k-q6phqO"
      }
    },
    {
      "cell_type": "markdown",
      "source": [
        "In which month most of bookings happen?"
      ],
      "metadata": {
        "id": "92cUcMXTg5bY"
      }
    },
    {
      "cell_type": "code",
      "source": [
        "bookings_by_months=hotel_booking.groupby(['arrival_date_month'])['hotel'].count().reset_index().rename(columns={'hotel':\"Counts of booking\"})\n",
        "sequence_of_months = ['January', 'February', 'March', 'April', 'May', 'June', 'July', 'August', 'September', 'October', 'November', 'December']\n",
        "bookings_by_months['arrival_date_month']=pd.Categorical(bookings_by_months['arrival_date_month'],categories=sequence_of_months,ordered=True)\n",
        "bookings_by_months=bookings_by_months.sort_values('arrival_date_month')\n",
        "bookings_by_months"
      ],
      "metadata": {
        "id": "sKtqJmMChUYP"
      },
      "execution_count": null,
      "outputs": []
    },
    {
      "cell_type": "code",
      "source": [
        "plt.figure(figsize=(14,7))\n",
        "sns.barplot(data=bookings_by_months, x=\"arrival_date_month\", y=\"Counts of booking\")\n",
        "plt.title(\"Number of Bookings in Months\", fontsize = 20)\n",
        "plt.xlabel('Month', fontsize = 15)\n",
        "plt.ylabel('Number of Bookings', fontsize = 15)"
      ],
      "metadata": {
        "id": "94FnBedmh5pW"
      },
      "execution_count": null,
      "outputs": []
    },
    {
      "cell_type": "markdown",
      "source": [
        "##### 1. Why did you pick the specific chart?"
      ],
      "metadata": {
        "id": "gCFgpxoyphqP"
      }
    },
    {
      "cell_type": "markdown",
      "source": [
        "I choose barplot here because it gives data visualization in pictorial form. So comparison becomes easy."
      ],
      "metadata": {
        "id": "TVxDimi2phqP"
      }
    },
    {
      "cell_type": "markdown",
      "source": [
        "##### 2. What is/are the insight(s) found from the chart?"
      ],
      "metadata": {
        "id": "OVtJsKN_phqQ"
      }
    },
    {
      "cell_type": "markdown",
      "source": [
        "The insight found from the chart is August month has maximum number of bookings.\n",
        "\n"
      ],
      "metadata": {
        "id": "ngGi97qjphqQ"
      }
    },
    {
      "cell_type": "markdown",
      "source": [
        "##### 3. Will the gained insights help creating a positive business impact? \n",
        "Are there any insights that lead to negative growth? Justify with specific reason."
      ],
      "metadata": {
        "id": "lssrdh5qphqQ"
      }
    },
    {
      "cell_type": "markdown",
      "source": [
        "July and August months have most bookings this is positive impact on business\n",
        "November, December and January months have less bookins this is neative impact."
      ],
      "metadata": {
        "id": "tBpY5ekJphqQ"
      }
    },
    {
      "cell_type": "markdown",
      "source": [
        "**Bivariate and Multivariate analysis**"
      ],
      "metadata": {
        "id": "X2nFCTNHiWaI"
      }
    },
    {
      "cell_type": "markdown",
      "source": [
        "#### Chart - 9"
      ],
      "metadata": {
        "id": "U2RJ9gkRphqQ"
      }
    },
    {
      "cell_type": "markdown",
      "source": [
        "Which hotel type has the highest ADR?"
      ],
      "metadata": {
        "id": "SVVVgm5riYdG"
      }
    },
    {
      "cell_type": "code",
      "source": [
        "highest_adr = hotel_booking.groupby('hotel')['adr'].mean().reset_index()\n",
        "highest_adr"
      ],
      "metadata": {
        "id": "-ljq7kJeifee"
      },
      "execution_count": null,
      "outputs": []
    },
    {
      "cell_type": "code",
      "source": [
        "plt.figure(figsize=(14,7))\n",
        "sns.barplot(x=highest_adr['hotel'],y=highest_adr['adr'])\n",
        "plt.title('Average ADR for each Hotel type', fontsize=20)\n",
        "plt.xlabel('Type of hotel',fontsize=15)\n",
        "plt.ylabel('ADR', fontsize=15)\n",
        "plt.show()"
      ],
      "metadata": {
        "id": "SOWnazP4ioUd"
      },
      "execution_count": null,
      "outputs": []
    },
    {
      "cell_type": "markdown",
      "source": [
        "##### 1. Why did you pick the specific chart?"
      ],
      "metadata": {
        "id": "1M8mcRywphqQ"
      }
    },
    {
      "cell_type": "markdown",
      "source": [
        "I choose bar plot because it gives simple pictorial diagram and it also easy to understand."
      ],
      "metadata": {
        "id": "8agQvks0phqQ"
      }
    },
    {
      "cell_type": "markdown",
      "source": [
        "##### 2. What is/are the insight(s) found from the chart?"
      ],
      "metadata": {
        "id": "tgIPom80phqQ"
      }
    },
    {
      "cell_type": "markdown",
      "source": [
        "The insight found from the chart is City hotel has highest adr that means city hotel generate more revenue."
      ],
      "metadata": {
        "id": "Qp13pnNzphqQ"
      }
    },
    {
      "cell_type": "markdown",
      "source": [
        "3. Will the gained insights help creating a positive business impact?\n",
        "Are there any insights that lead to negative growth? Justify with specific reason.\n",
        "\n",
        "City hotel has high adr this makes positive impact.\n",
        "Resort hotel has less adr as compaire to city hotel this makes negative impact."
      ],
      "metadata": {
        "id": "HmyXCZuui5_4"
      }
    },
    {
      "cell_type": "markdown",
      "source": [
        "#### Chart - 10"
      ],
      "metadata": {
        "id": "x-EpHcCOp1ci"
      }
    },
    {
      "cell_type": "markdown",
      "source": [
        "Which distribution channel contributed more to adr in order to increase the income?"
      ],
      "metadata": {
        "id": "nADYCsTrjKot"
      }
    },
    {
      "cell_type": "code",
      "source": [
        "distribution_channel = hotel_booking.groupby(['distribution_channel','hotel'])['adr'].mean().reset_index()\n",
        "distribution_channel"
      ],
      "metadata": {
        "id": "kjdalTH4jhwW"
      },
      "execution_count": null,
      "outputs": []
    },
    {
      "cell_type": "code",
      "source": [
        "plt.figure(figsize=(14,7))\n",
        "sns.barplot(x='distribution_channel',y='adr', data=distribution_channel,hue='hotel')\n",
        "plt.title('ADR across Distribution channel', fontsize=20)\n",
        "plt.xlabel('Distribution channel',fontsize=15)\n",
        "plt.ylabel('ADR', fontsize=15)"
      ],
      "metadata": {
        "id": "KfmIqBmAjq5_"
      },
      "execution_count": null,
      "outputs": []
    },
    {
      "cell_type": "markdown",
      "source": [
        "##### 1. Why did you pick the specific chart?"
      ],
      "metadata": {
        "id": "X_VqEhTip1ck"
      }
    },
    {
      "cell_type": "markdown",
      "source": [
        "I choose here barplot to visualise ADR across distribution channel beacuse it give easy to undertand visualization to large data."
      ],
      "metadata": {
        "id": "-vsMzt_np1ck"
      }
    },
    {
      "cell_type": "markdown",
      "source": [
        "##### 2. What is/are the insight(s) found from the chart?"
      ],
      "metadata": {
        "id": "8zGJKyg5p1ck"
      }
    },
    {
      "cell_type": "markdown",
      "source": [
        "The insight found from the above chart is that GDS channel contributed most in ADR in city hotel and Direct and TA/TO has nearly equal contribution in adr in both hotel types.\n",
        "\n"
      ],
      "metadata": {
        "id": "ZYdMsrqVp1ck"
      }
    },
    {
      "cell_type": "markdown",
      "source": [
        "##### 3. Will the gained insights help creating a positive business impact? \n",
        "Are there any insights that lead to negative growth? Justify with specific reason."
      ],
      "metadata": {
        "id": "PVzmfK_Ep1ck"
      }
    },
    {
      "cell_type": "markdown",
      "source": [
        "GDS distribution channel contributed more to adr for city hotel and Undefined distribution channel contributed more to adr for resort hotel this makes positive impact.\n",
        "GDS distribution channel has no any contribution to adr for resort hotel and undefined distribution channel contributed less to adr for city hotel this makes neative impact."
      ],
      "metadata": {
        "id": "NFlFNBWlj3TF"
      }
    },
    {
      "cell_type": "markdown",
      "source": [
        "#### Chart - 11"
      ],
      "metadata": {
        "id": "n3dbpmDWp1ck"
      }
    },
    {
      "cell_type": "markdown",
      "source": [
        "\n",
        "Relationship between the repeated guests and previous bookings not canceled?"
      ],
      "metadata": {
        "id": "g7cYDfvZkLqv"
      }
    },
    {
      "cell_type": "code",
      "source": [
        "repeated_guests =hotel_booking[hotel_booking['is_repeated_guest']==1]\n",
        "repeated_guests_1 = hotel_booking[hotel_booking['is_repeated_guest']==0]\n",
        "    "
      ],
      "metadata": {
        "id": "yRxPjmTHkNn3"
      },
      "execution_count": null,
      "outputs": []
    },
    {
      "cell_type": "code",
      "source": [
        "plt.figure(figsize=(14,7))\n",
        "sns.barplot(x=hotel_booking['is_repeated_guest'],y= hotel_booking['previous_bookings_not_canceled'])\n",
        "plt.xticks([0,1],['Not_repeated_guests','repeated_guests'],fontsize=15)\n",
        "plt.xlabel('Is Repeated guests',fontsize=15)\n",
        "plt.ylabel('Previous booking not cancelled', fontsize=15)\n",
        "plt.title('Relationship between repeated guests and previous bookings not cancelled', fontsize=20)\n",
        "plt.show()\n",
        "     \n"
      ],
      "metadata": {
        "id": "55X8OWQVkegF"
      },
      "execution_count": null,
      "outputs": []
    },
    {
      "cell_type": "markdown",
      "source": [
        "##### 1. Why did you pick the specific chart?"
      ],
      "metadata": {
        "id": "ylSl6qgtp1ck"
      }
    },
    {
      "cell_type": "markdown",
      "source": [
        "Because bar plot is easy to understand."
      ],
      "metadata": {
        "id": "m2xqNkiQp1ck"
      }
    },
    {
      "cell_type": "markdown",
      "source": [
        "##### 2. What is/are the insight(s) found from the chart?"
      ],
      "metadata": {
        "id": "ZWILFDl5p1ck"
      }
    },
    {
      "cell_type": "markdown",
      "source": [
        "The insight found from this chart is that not repeated guests cancel their bookings."
      ],
      "metadata": {
        "id": "x-lUsV2mp1ck"
      }
    },
    {
      "cell_type": "markdown",
      "source": [
        "## **5. Solution to Business Objective**\n",
        "Business objective attained as follows:\n",
        "\n",
        "For hotel business to flourish few things which we need to consider is high revenue generation, customers satisfaction and employeee retention.\n",
        "\n",
        "We are able achieve the same by showing the client which are the months which are high in revenue generation by pie chart distribution\n",
        "\n",
        "Increasing the revenue achieved by bar chart distribution of which typre room are most reserved and what are the months likely for visitors\n",
        "\n",
        "So for these the client can be well prepare in advance so that minimum grievances would be faced by clients in long run and would help in further enhancement of their hospitality.\n",
        "\n",
        "Outliers like higher the visitor then adr has reduced drastically was shown in scattered plot so in off season client can engage with offices for bulk booking this will aslo help extra revenue generation\n",
        "\n",
        "We are able to show the trend of arrivals of visitor at client locations through which client engaged visitos well advance for there entaertainment and leisure activities\n",
        "\n",
        "We where also able to co relate the values showing the max and min percentage between them so that the percenytage lying those numbers can be enhanced by various medium\n",
        "\n"
      ],
      "metadata": {
        "id": "JcMwzZxoAimU"
      }
    },
    {
      "cell_type": "markdown",
      "source": [
        "# **Conclusion**"
      ],
      "metadata": {
        "id": "gCX9965dhzqZ"
      }
    },
    {
      "cell_type": "markdown",
      "source": [
        "1)City hotel is mostly preferred hotel by guests.\n",
        "2) Agent no. 9 made the most bookings.\n",
        "3) Percentage of repeated guest is less which is 3.86%.\n",
        "4) Room type A is mostly preferred room type.\n",
        "5) Mostly preferred food type is BBtype food.\n",
        "6) August month has most bookings and after august july has most bookings.\n",
        "7) TA/TO distribution channel is mostly used and percentage is 79.13%.\n",
        "8) City hotel has highest ADR. Highest ADR means more revenue.\n",
        "9) 2016 year had highest bookings and bookings were 42313.\n",
        "10) City hotel has higher waiting time means city hotel is busier hotel.\n",
        "11) If number of people is more then ADR is also increases means revenue increases."
      ],
      "metadata": {
        "id": "hMuM6qqulSmQ"
      }
    },
    {
      "cell_type": "markdown",
      "source": [
        "1.City Hotel seems to be more preferred among travellers and it also generates more revenue & profit.\n",
        "\n",
        "2.Most number of bookings are made in July and August as compared rest of the months.\n",
        "\n",
        "3.Room Type A is the most preferred room type among travellers.\n",
        "\n",
        "4.Most number of bookings are made from Portugal & Great Britain.\n",
        "\n",
        "5.Most of the guest stays for 1-4 days in the hotels.\n",
        "\n",
        "6.City Hotel retains more number of guests.\n",
        "\n",
        "7.Around one-fourth of the total bookings gets cancelled. More cancellations are from City Hotel.\n",
        "\n",
        "8.New guest tends to cancel bookings more than repeated customers.\n",
        "\n",
        "9.Lead time, number of days in waiting list or assignation of reserved room to customer does not affect cancellation of bookings.\n",
        "\n",
        "10.The length of the stay decreases as ADR increases probably to reduce the cost.\n",
        "\n"
      ],
      "metadata": {
        "id": "Fjb1IsQkh3yE"
      }
    },
    {
      "cell_type": "markdown",
      "source": [
        "### ***Hurrah! You have successfully completed your EDA Capstone Project !!!***"
      ],
      "metadata": {
        "id": "gIfDvo9L0UH2"
      }
    }
  ]
}