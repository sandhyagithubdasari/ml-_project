{
  "nbformat": 4,
  "nbformat_minor": 0,
  "metadata": {
    "colab": {
      "private_outputs": true,
      "provenance": [],
      "collapsed_sections": [
        "FJNUwmbgGyua",
        "mDgbUHAGgjLW",
        "gIfDvo9L0UH2"
      ],
      "include_colab_link": true
    },
    "kernelspec": {
      "name": "python3",
      "display_name": "Python 3"
    },
    "language_info": {
      "name": "python"
    }
  },
  "cells": [
    {
      "cell_type": "markdown",
      "metadata": {
        "id": "view-in-github",
        "colab_type": "text"
      },
      "source": [
        "<a href=\"https://colab.research.google.com/github/sandhyagithubdasari/ml-_project/blob/main/Mobile_Price_Prediction_ML_Project.ipynb\" target=\"_parent\"><img src=\"https://colab.research.google.com/assets/colab-badge.svg\" alt=\"Open In Colab\"/></a>"
      ]
    },
    {
      "cell_type": "markdown",
      "source": [
        "# **Project Name**    - **Mobile Price Range Prediction**\n"
      ],
      "metadata": {
        "id": "vncDsAP0Gaoa"
      }
    },
    {
      "cell_type": "markdown",
      "source": [
        "Project Type   - Classification\n",
        "##### **Contribution**    - Individual\n"
      ],
      "metadata": {
        "id": "beRrZCGUAJYm"
      }
    },
    {
      "cell_type": "markdown",
      "source": [
        "# **Project Summary -**\n",
        " Mobile is one of the most selling and purchasing device. Every day new mobiles with new version and more features are launched. Thousands of mobiles are sold and purchased on daily basis.and the price of a mobile phone is determined by various factors, including battery power, Bluetooth, camera quality, screen size, and more\n",
        "\n",
        " Based on our dataset, Data wrangling was the first step followed. After that i am going to do Exploratory Data Analysis and Data Visualization in which we are finding some insights from the data and relations between the features.\n",
        "\n",
        "Then we will select the important features for classification model and try the various classification models. After checking the accuracy and confusion matrix we will select the best model for this dataset.\n",
        "\n",
        "In this project i use Decision tree classifier, Random forest classifier, Gradient boosting classifier, K- nearest neighbour classifier, XGboost classifier and Support vector machine classifier with Hyperparameter tuning and cross validation techniques to obtain result"
      ],
      "metadata": {
        "id": "FJNUwmbgGyua"
      }
    },
    {
      "cell_type": "markdown",
      "source": [
        "\n",
        "\n",
        "---\n",
        "\n"
      ],
      "metadata": {
        "id": "F6v_1wHtG2nS"
      }
    },
    {
      "cell_type": "markdown",
      "source": [
        "# **GitHub Link -**"
      ],
      "metadata": {
        "id": "w6K7xa23Elo4"
      }
    },
    {
      "cell_type": "markdown",
      "source": [
        "Provide your GitHub Link here."
      ],
      "metadata": {
        "id": "h1o69JH3Eqqn"
      }
    },
    {
      "cell_type": "markdown",
      "source": [
        "# **Problem Statement**\n"
      ],
      "metadata": {
        "id": "yQaldy8SH6Dl"
      }
    },
    {
      "cell_type": "markdown",
      "source": [
        "In the competitive mobile phone market companies want to understand sales data of mobile phones and factors which drive the prices. The objective is to find out some relation between features of a mobile phone(eg:- RAM, Internal Memory, etc) and its selling price. In this problem, we do not have to predict the actual price but a price range indicating how high the price is."
      ],
      "metadata": {
        "id": "DpeJGUA3kjGy"
      }
    },
    {
      "cell_type": "markdown",
      "source": [
        "# **General Guidelines** : -  "
      ],
      "metadata": {
        "id": "mDgbUHAGgjLW"
      }
    },
    {
      "cell_type": "markdown",
      "source": [
        "1.   Well-structured, formatted, and commented code is required.\n",
        "2.   Exception Handling, Production Grade Code & Deployment Ready Code will be a plus. Those students will be awarded some additional credits.\n",
        "     \n",
        "     The additional credits will have advantages over other students during Star Student selection.\n",
        "       \n",
        "             [ Note: - Deployment Ready Code is defined as, the whole .ipynb notebook should be executable in one go\n",
        "                       without a single error logged. ]\n",
        "\n",
        "3.   Each and every logic should have proper comments.\n",
        "4. You may add as many number of charts you want. Make Sure for each and every chart the following format should be answered.\n",
        "        \n",
        "\n",
        "```\n",
        "# Chart visualization code\n",
        "```\n",
        "            \n",
        "\n",
        "*   Why did you pick the specific chart?\n",
        "*   What is/are the insight(s) found from the chart?\n",
        "* Will the gained insights help creating a positive business impact?\n",
        "Are there any insights that lead to negative growth? Justify with specific reason.\n",
        "\n",
        "5. You have to create at least 15 logical & meaningful charts having important insights.\n",
        "\n",
        "\n",
        "[ Hints : - Do the Vizualization in  a structured way while following \"UBM\" Rule.\n",
        "\n",
        "U - Univariate Analysis,\n",
        "\n",
        "B - Bivariate Analysis (Numerical - Categorical, Numerical - Numerical, Categorical - Categorical)\n",
        "\n",
        "M - Multivariate Analysis\n",
        " ]\n",
        "\n",
        "\n",
        "\n",
        "\n",
        "\n",
        "6. You may add more ml algorithms for model creation. Make sure for each and every algorithm, the following format should be answered.\n",
        "\n",
        "\n",
        "*   Explain the ML Model used and it's performance using Evaluation metric Score Chart.\n",
        "\n",
        "\n",
        "*   Cross- Validation & Hyperparameter Tuning\n",
        "\n",
        "*   Have you seen any improvement? Note down the improvement with updates Evaluation metric Score Chart.\n",
        "\n",
        "*   Explain each evaluation metric's indication towards business and the business impact pf the ML model used.\n",
        "\n",
        "\n",
        "\n",
        "\n",
        "\n",
        "\n",
        "\n",
        "\n",
        "\n",
        "\n",
        "\n",
        "\n",
        "\n",
        "\n",
        "\n",
        "\n",
        "\n",
        "\n"
      ],
      "metadata": {
        "id": "ZrxVaUj-hHfC"
      }
    },
    {
      "cell_type": "markdown",
      "source": [
        "# ***Let's Begin !***"
      ],
      "metadata": {
        "id": "O_i_v8NEhb9l"
      }
    },
    {
      "cell_type": "markdown",
      "source": [
        "## ***1. Know Your Data***"
      ],
      "metadata": {
        "id": "HhfV-JJviCcP"
      }
    },
    {
      "cell_type": "markdown",
      "source": [
        "### Import Libraries"
      ],
      "metadata": {
        "id": "Y3lxredqlCYt"
      }
    },
    {
      "cell_type": "code",
      "source": [
        "# Import Libraries\n",
        "\n",
        "# Importing\n",
        "\n",
        "import numpy as np\n",
        "import pandas as pd\n",
        "import matplotlib.pyplot as plt\n",
        "import seaborn as sns\n",
        "from sklearn.ensemble import RandomForestClassifier\n",
        "from sklearn.neighbors import KNeighborsClassifier\n",
        "from sklearn.preprocessing import StandardScaler\n",
        "from sklearn.model_selection import GridSearchCV\n",
        "\n",
        "import warnings\n",
        "warnings.filterwarnings(\"ignore\")"
      ],
      "metadata": {
        "id": "M8Vqi-pPk-HR"
      },
      "execution_count": null,
      "outputs": []
    },
    {
      "cell_type": "code",
      "source": [
        "from google.colab import drive\n"
      ],
      "metadata": {
        "id": "tippqeTYq_t4"
      },
      "execution_count": null,
      "outputs": []
    },
    {
      "cell_type": "markdown",
      "source": [
        "### Dataset Loading"
      ],
      "metadata": {
        "id": "3RnN4peoiCZX"
      }
    },
    {
      "cell_type": "code",
      "source": [
        "from google.colab import drive\n",
        "drive.mount('/content/drive')"
      ],
      "metadata": {
        "id": "Bjky1rgtsSeu"
      },
      "execution_count": null,
      "outputs": []
    },
    {
      "cell_type": "code",
      "source": [
        "# Load Dataset\n",
        "df = pd.read_csv(\"/content/data_mobile_price_range.csv\")"
      ],
      "metadata": {
        "id": "pC_d3g-_sh1s"
      },
      "execution_count": null,
      "outputs": []
    },
    {
      "cell_type": "markdown",
      "source": [
        "### Dataset First View"
      ],
      "metadata": {
        "id": "x71ZqKXriCWQ"
      }
    },
    {
      "cell_type": "code",
      "source": [
        "# Dataset First Look\n",
        "df.head()"
      ],
      "metadata": {
        "id": "LWNFOSvLl09H"
      },
      "execution_count": null,
      "outputs": []
    },
    {
      "cell_type": "code",
      "source": [
        "# Dataset First Look From Bottom Five Rows & Columns\n",
        "df.tail()"
      ],
      "metadata": {
        "id": "S6MO8CxPwcK6"
      },
      "execution_count": null,
      "outputs": []
    },
    {
      "cell_type": "markdown",
      "source": [
        "### Dataset Rows & Columns count"
      ],
      "metadata": {
        "id": "7hBIi_osiCS2"
      }
    },
    {
      "cell_type": "code",
      "source": [
        "# Dataset Rows & Columns count\n",
        "df.shape"
      ],
      "metadata": {
        "id": "Kllu7SJgmLij"
      },
      "execution_count": null,
      "outputs": []
    },
    {
      "cell_type": "markdown",
      "source": [
        "### Dataset Information"
      ],
      "metadata": {
        "id": "JlHwYmJAmNHm"
      }
    },
    {
      "cell_type": "code",
      "source": [
        "# Dataset Info\n",
        "df.info()"
      ],
      "metadata": {
        "id": "e9hRXRi6meOf"
      },
      "execution_count": null,
      "outputs": []
    },
    {
      "cell_type": "markdown",
      "source": [
        "#### Duplicate Values"
      ],
      "metadata": {
        "id": "35m5QtbWiB9F"
      }
    },
    {
      "cell_type": "code",
      "source": [
        "# Dataset Duplicate Value Count\n",
        "\n",
        "# Dataset Duplicate Value Count\n",
        "print(f'duplicted values in the data: {df.duplicated().sum()}')"
      ],
      "metadata": {
        "id": "1sLdpKYkmox0"
      },
      "execution_count": null,
      "outputs": []
    },
    {
      "cell_type": "markdown",
      "source": [
        "#### Missing Values/Null Values"
      ],
      "metadata": {
        "id": "PoPl-ycgm1ru"
      }
    },
    {
      "cell_type": "code",
      "source": [
        "# Missing Values/Null Values Count\n",
        "df.isnull().sum()"
      ],
      "metadata": {
        "id": "GgHWkxvamxVg"
      },
      "execution_count": null,
      "outputs": []
    },
    {
      "cell_type": "code",
      "source": [
        "# Visualizing the missing values\n",
        "sns.heatmap(df.isnull(), cmap='plasma', cbar=True)\n"
      ],
      "metadata": {
        "id": "3q5wnI3om9sJ"
      },
      "execution_count": null,
      "outputs": []
    },
    {
      "cell_type": "markdown",
      "source": [
        "### What did you know about your dataset?"
      ],
      "metadata": {
        "id": "H0kj-8xxnORC"
      }
    },
    {
      "cell_type": "markdown",
      "source": [
        "The dataset contains 21 columns and 2000 rows with no missing values"
      ],
      "metadata": {
        "id": "gfoNAAC-nUe_"
      }
    },
    {
      "cell_type": "markdown",
      "source": [
        "## ***2. Understanding Your Variables***"
      ],
      "metadata": {
        "id": "nA9Y7ga8ng1Z"
      }
    },
    {
      "cell_type": "code",
      "source": [
        "# Dataset Columns\n",
        "df.columns"
      ],
      "metadata": {
        "id": "j7xfkqrt5Ag5"
      },
      "execution_count": null,
      "outputs": []
    },
    {
      "cell_type": "code",
      "source": [
        "# Dataset Describe\n",
        "df.describe()"
      ],
      "metadata": {
        "id": "DnOaZdaE5Q5t"
      },
      "execution_count": null,
      "outputs": []
    },
    {
      "cell_type": "markdown",
      "source": [
        "### Variables Description"
      ],
      "metadata": {
        "id": "PBTbrJXOngz2"
      }
    },
    {
      "cell_type": "markdown",
      "source": [
        "Battery_power - Total energy a battery can store in one time measured in mAh.\n",
        "\n",
        "Blue - Has bluetooth or not.\n",
        "\n",
        "Clock_speed - speed at which microprocessor executes instructions.\n",
        "\n",
        "Dual_sim - Has dual sim support or not.\n",
        "\n",
        "Fc - Front Camera mega pixels.\n",
        "\n",
        "Four_g - Has 4G or not.\n",
        "\n",
        "Int_memory - Internal Memory in Gigabytes.\n",
        "\n",
        "M_dep - Mobile Depth in cm.\n",
        "\n",
        "Mobile_wt - Weight of mobile phone.\n",
        "\n",
        "N_cores - Number of cores of processor.\n",
        "\n",
        "Pc - Primary Camera mega pixels.\n",
        "\n",
        "Px_height - Pixel Resolution Height.\n",
        "\n",
        "Px_width - Pixel Resolution Width.\n",
        "\n",
        "Ram - Random Access Memory in Mega.\n",
        "\n",
        "Touch_screen - Has touch screen or not.\n",
        "\n",
        "Wifi - Has wifi or not.\n",
        "\n",
        "Sc_h - Screen Height of mobile in cm.\n",
        "\n",
        "Sc_w - Screen Width of mobile in cm.\n",
        "\n",
        "Talk_time - longest time that a single battery charge will last when you are.\n",
        "\n",
        "Three_g - Has 3G or not.\n",
        "\n",
        "Wifi - Has wifi or not.\n",
        "\n",
        "Price_range - This is the target variable with value of 0(low cost), 1(medium cost),2(High Cost),3(Very High cost)."
      ],
      "metadata": {
        "id": "aJV4KIxSnxay"
      }
    },
    {
      "cell_type": "markdown",
      "source": [
        "### Check Unique Values for each variable."
      ],
      "metadata": {
        "id": "u3PMJOP6ngxN"
      }
    },
    {
      "cell_type": "code",
      "source": [
        "# Check Unique Values for each variable.\n",
        "df.nunique()"
      ],
      "metadata": {
        "id": "zms12Yq5n-jE"
      },
      "execution_count": null,
      "outputs": []
    },
    {
      "cell_type": "markdown",
      "source": [
        "## 3. ***Data Wrangling***"
      ],
      "metadata": {
        "id": "dauF4eBmngu3"
      }
    },
    {
      "cell_type": "markdown",
      "source": [
        "### Data Wrangling Code"
      ],
      "metadata": {
        "id": "bKJF3rekwFvQ"
      }
    },
    {
      "cell_type": "code",
      "source": [
        "# Write your code to make your dataset analysis ready.\n",
        "# we are replacing the columns names with understandable names\n",
        "\n",
        "df=df.rename(index=str, columns={\"battery_power\": \"Battery Power\", \"blue\": \"Bluetooth\",\"clock_speed\":\"Clock Speed\",\"dual_sim\":\"Dual Sim\",\"fc\":\"Front Camera MP\",\n",
        "                                   \"four_g\":\"4G\",\"int_memory\":\"Internal Memory(GB)\",\"m_dep\":\"Mobile Depth(CM)\",\"mobile_wt\":\"Weight\",\"n_cores\":\"Number of cores\",\"pc\":\"Primary Camera MP\"\n",
        "                                   ,\"px_height\":\"Pixel R. Height\",\"px_width\":\"Pixel R. Width\",\"ram\":\"RAM(MB)\",\"sc_h\":\"Screen Height(cm)\",\"sc_w\":\"Screen Width\",\n",
        "                                   \"talk_time\":\"Longest Battery Charge\",\"three_g\":\"3G\",\"touch_screen\":\"Touch Screen\",\"wifi\":\"WIFI\",\"price_range\":\"Price Range\"})\n",
        "df\n",
        "\n"
      ],
      "metadata": {
        "id": "wk-9a2fpoLcV"
      },
      "execution_count": null,
      "outputs": []
    },
    {
      "cell_type": "code",
      "source": [
        "#checking whether there is duplicates or not\n",
        "len(df[df.duplicated()])"
      ],
      "metadata": {
        "id": "JcIG4ZVx13Ld"
      },
      "execution_count": null,
      "outputs": []
    },
    {
      "cell_type": "code",
      "source": [
        "\n",
        "#Null values\n",
        "df.isnull().sum()"
      ],
      "metadata": {
        "id": "d25M1Z5G1oW-"
      },
      "execution_count": null,
      "outputs": []
    },
    {
      "cell_type": "markdown",
      "source": [
        "### What all manipulations have you done and insights you found?"
      ],
      "metadata": {
        "id": "MSa1f5Uengrz"
      }
    },
    {
      "cell_type": "markdown",
      "source": [
        "1. Feature names are not understandable so I rename them and make them easily understandable.\n",
        "2. Data have zero values in some features so i drop them"
      ],
      "metadata": {
        "id": "LbyXE7I1olp8"
      }
    },
    {
      "cell_type": "markdown",
      "source": [
        "## ***4. Data Vizualization, Storytelling & Experimenting with charts : Understand the relationships between variables***"
      ],
      "metadata": {
        "id": "GF8Ens_Soomf"
      }
    },
    {
      "cell_type": "markdown",
      "source": [
        "#### Chart - 1"
      ],
      "metadata": {
        "id": "0wOQAZs5pc--"
      }
    },
    {
      "cell_type": "markdown",
      "source": [
        "Price Range"
      ],
      "metadata": {
        "id": "TA7or72bY5fb"
      }
    },
    {
      "cell_type": "code",
      "source": [
        "# Chart - 1 visualization code\n",
        "# lets have a look at our target variable\n",
        "\n",
        "price_range_values = df['Price Range'].value_counts()\n",
        "price_range_values\n",
        "\n"
      ],
      "metadata": {
        "id": "8V_NvTaLZneE"
      },
      "execution_count": null,
      "outputs": []
    },
    {
      "cell_type": "code",
      "source": [
        "# Visualizing the Target variable's class distribution.\n",
        "\n",
        "labels = [\"low cost\", \"medium cost\", \"high cost\", \"very high cost\"]\n",
        "price_range_values.plot.pie(explode=[0.05]*4,labels=labels,autopct='%1.1f%%',figsize=(12,8),fontsize=15)"
      ],
      "metadata": {
        "id": "kymgqyKegnEY"
      },
      "execution_count": null,
      "outputs": []
    },
    {
      "cell_type": "markdown",
      "source": [
        "##### 1. Why did you pick the specific chart?"
      ],
      "metadata": {
        "id": "K5QZ13OEpz2H"
      }
    },
    {
      "cell_type": "markdown",
      "source": [
        "I picked this chart to know the distribution of percentage of phones with price range low or high."
      ],
      "metadata": {
        "id": "XESiWehPqBRc"
      }
    },
    {
      "cell_type": "markdown",
      "source": [
        "##### 2. What is/are the insight(s) found from the chart?"
      ],
      "metadata": {
        "id": "lQ7QKXXCp7Bj"
      }
    },
    {
      "cell_type": "markdown",
      "source": [
        "All category phones are distributed with equal price range."
      ],
      "metadata": {
        "id": "C_j1G7yiqdRP"
      }
    },
    {
      "cell_type": "markdown",
      "source": [
        "##### 3. Will the gained insights help creating a positive business impact?\n",
        "Are there any insights that lead to negative growth? Justify with specific reason."
      ],
      "metadata": {
        "id": "448CDAPjqfQr"
      }
    },
    {
      "cell_type": "markdown",
      "source": [
        "Yes we are able to know distribution of phones in percentage so we have information about distributions"
      ],
      "metadata": {
        "id": "3cspy4FjqxJW"
      }
    },
    {
      "cell_type": "markdown",
      "source": [
        "#### Chart - 2"
      ],
      "metadata": {
        "id": "KSlN3yHqYklG"
      }
    },
    {
      "cell_type": "markdown",
      "source": [
        "RAM"
      ],
      "metadata": {
        "id": "-TT-s9togD60"
      }
    },
    {
      "cell_type": "code",
      "source": [
        "\n",
        "# Chart - 3 visualization code\n",
        "\n",
        "# plotting  price_range vs other fearures\n",
        "plt.figure(figsize=(20,10))\n",
        "\n",
        "labels=['0=low_cost','1=medium_cost','2=high_cost','3=very_high_cost']\n",
        "\n",
        "rows=2\n",
        "cols=2\n",
        "counter=1\n",
        "\n",
        "variables=['RAM(MB)','Battery Power','Pixel R. Height','Pixel R. Width']\n",
        "\n",
        "for var in variables:\n",
        "  plt.subplot(rows,cols,counter)\n",
        "  sns.barplot(x =df['Price Range'], y = df[var])\n",
        "  plt.title(f'Price Range v/s {var}')\n",
        "  counter=counter+1\n",
        "  plt.tight_layout()\n",
        "\n"
      ],
      "metadata": {
        "id": "R4YgtaqtYklH"
      },
      "execution_count": null,
      "outputs": []
    },
    {
      "cell_type": "markdown",
      "source": [
        "##### 1. Why did you pick the specific chart?"
      ],
      "metadata": {
        "id": "t6dVpIINYklI"
      }
    },
    {
      "cell_type": "markdown",
      "source": [
        "To find relation between some features and target variable"
      ],
      "metadata": {
        "id": "5aaW0BYyYklI"
      }
    },
    {
      "cell_type": "markdown",
      "source": [
        "##### 2. What is/are the insight(s) found from the chart?"
      ],
      "metadata": {
        "id": "ijmpgYnKYklI"
      }
    },
    {
      "cell_type": "markdown",
      "source": [
        "*Mobiles having RAM more than 3000MB falls under Very high cost category.As RAM increases price range also increases.*\n",
        "\n",
        "*Mobiles having RAM less than 1000 MB falls under low cost category.*\n",
        "\n",
        "*Mobiles with battery power more than 1300 mAh has very high cost. And Mobiles with battery power between 1200 and 1300 mAH falls under medium and high cost category.*\n",
        "\n",
        "*Mobiles with more than 700 pixel height and width more than 1300 has very high cost.* italicized text *italicized text*"
      ],
      "metadata": {
        "id": "PSx9atu2YklI"
      }
    },
    {
      "cell_type": "markdown",
      "source": [
        "#### Chart - 3\n",
        "Range"
      ],
      "metadata": {
        "id": "EM7whBJCYoAo"
      }
    },
    {
      "cell_type": "code",
      "source": [
        "\n",
        "# Chart - 4 visualization code\n",
        "\n",
        "list_1=['Battery Power','Clock Speed','Front Camera MP','Internal Memory(GB)','Mobile Depth(CM)','Weight','Number of cores','Primary Camera MP','Pixel R. Height','Pixel R. Width','Screen Height(cm)','RAM(MB)','Screen Width','Longest Battery Charge']\n",
        "# plotting boXplot and distribution\n",
        "counter=1\n",
        "for var in list_1:\n",
        "    plt.figure(figsize=(10,6))\n",
        "\n",
        "    sns.boxplot(x=df['Price Range'],y = df[var])"
      ],
      "metadata": {
        "id": "t6GMdE67YoAp"
      },
      "execution_count": null,
      "outputs": []
    },
    {
      "cell_type": "markdown",
      "source": [
        "##### 1. Why did you pick the specific chart?"
      ],
      "metadata": {
        "id": "fge-S5ZAYoAp"
      }
    },
    {
      "cell_type": "markdown",
      "source": [
        "To understand how independent variabes affect dependent variable"
      ],
      "metadata": {
        "id": "5dBItgRVYoAp"
      }
    },
    {
      "cell_type": "markdown",
      "source": [
        "##### 2. What is/are the insight(s) found from the chart?"
      ],
      "metadata": {
        "id": "85gYPyotYoAp"
      }
    },
    {
      "cell_type": "markdown",
      "source": [
        "Most expensive mobiles have better batteries, but there isn't much diffrence betwwen 1 and 2 price categories.\n",
        "\n",
        "Least expensive mobiles have lowest clock speed.\n",
        "mobiles that don't have front camera have medium price\n",
        "\n",
        "Size of memory is almost the same in all prices\n",
        "Heviest mobiles have low cost\n",
        "\n",
        "Mobiles in diffrent prices, may have or not have primery camera.\n",
        "Very high cost mobiles have bigger px_height and px_width.\n",
        "\n",
        "By increasing the size of ram , price increase alot.\n",
        "Very high cost mobiles have bigger height and width in cm"
      ],
      "metadata": {
        "id": "4jstXR6OYoAp"
      }
    },
    {
      "cell_type": "markdown",
      "source": [
        "3. Will the gained insights help creating a positive business impact?\n",
        "\n",
        "Are there any insights that lead to negative growth? Justify with specific reason.\n",
        "\n",
        "The observation that the distribution of front camera megapixels is similar across all price ranges suggests that this feature alone may not be a helpful predictor of price range. However, this does not necessarily mean that the insights gained from this analysis cannot create a positive business impact.\n",
        "\n",
        "For example, understanding the limitations of certain features in predicting price range can inform the development of more accurate models that consider multiple features simultaneously. This can lead to better pricing strategies and more effective product positioning, ultimately resulting in increased revenue and growth.\n"
      ],
      "metadata": {
        "id": "x7F_KvQjkZnZ"
      }
    },
    {
      "cell_type": "markdown",
      "source": [
        "chart - 4"
      ],
      "metadata": {
        "id": "99ocXEISKgCZ"
      }
    },
    {
      "cell_type": "code",
      "source": [
        "\n",
        "numeric_col=['Battery Power','Clock Speed','Front Camera MP','Internal Memory(GB)','Mobile Depth(CM)','Weight','Number of cores','Primary Camera MP','Pixel R. Height',\n",
        "             'Pixel R. Width', 'RAM(MB)', 'Screen Height(cm)', 'Screen Width', 'Longest Battery Charge',]\n",
        "\n",
        "\n",
        "# plotting boXplot and distribution\n",
        "for var in numeric_col:\n",
        "    plt.figure(figsize=(15,6))\n",
        "    plt.subplot(1, 2, 1)\n",
        "    fig = sns.boxplot(y = df[var],color='green')\n",
        "    fig.set_title('')\n",
        "    fig.set_ylabel(var)\n",
        "\n",
        "    plt.subplot(1, 2, 2)\n",
        "    fig = sns.distplot( df[var],color= 'red')\n",
        "\n",
        "    fig.set_xlabel(var)\n",
        "\n",
        "    plt.show()"
      ],
      "metadata": {
        "id": "aP9okr_1pl1M"
      },
      "execution_count": null,
      "outputs": []
    },
    {
      "cell_type": "markdown",
      "source": [
        "#### Chart - 5"
      ],
      "metadata": {
        "id": "4Of9eVA-YrdM"
      }
    },
    {
      "cell_type": "code",
      "source": [
        "# Chart - 4 visualization code\n",
        "list_2=['Number of cores','Mobile Depth(CM)']\n",
        "for item in list_2:\n",
        "\n",
        "  df.groupby(['Price Range'])[item].value_counts().unstack().plot.bar(figsize=(15,10))\n",
        "  plt.title(f'Price range grouped by {item}')\n",
        "  plt.ylabel('No. of phones')\n"
      ],
      "metadata": {
        "id": "irlUoxc8YrdO"
      },
      "execution_count": null,
      "outputs": []
    },
    {
      "cell_type": "markdown",
      "source": [
        "##### 1. Why did you pick the specific chart?"
      ],
      "metadata": {
        "id": "iky9q4vBYrdO"
      }
    },
    {
      "cell_type": "markdown",
      "source": [
        "To know the price ranges of no of phones"
      ],
      "metadata": {
        "id": "aJRCwT6DYrdO"
      }
    },
    {
      "cell_type": "markdown",
      "source": [
        "##### 2. What is/are the insight(s) found from the chart?"
      ],
      "metadata": {
        "id": "F6T5p64dYrdO"
      }
    },
    {
      "cell_type": "markdown",
      "source": [
        "*There are very few mobiles in price range 0 and 1 with lesser no of cores.*\n",
        "\n",
        "*Most of the mobiles in price range 2 and 3 are with high no of cores.*\n",
        "\n",
        "*Number of phones with less thickness is high and count of phones with high thickness is low.*"
      ],
      "metadata": {
        "id": "Xx8WAJvtYrdO"
      }
    },
    {
      "cell_type": "markdown",
      "source": [
        "#### Chart - 6"
      ],
      "metadata": {
        "id": "bamQiAODYuh1"
      }
    },
    {
      "cell_type": "code",
      "source": [
        "# Chart - 5 visualization\n",
        "plt.figure(1 , figsize = (20 , 9))\n",
        "plt.suptitle('Continous variable analysis(Histogram)\\n', fontsize=25, c = 'red')\n",
        "i = 0\n",
        "for col in list_1:\n",
        "    i += 1\n",
        "    plt.subplot(3 , 5 , i)\n",
        "    #plt.hist(df[col])\n",
        "    sns.histplot(df[col], kde = True)\n",
        "    plt.subplots_adjust(hspace =0.5 , wspace = 0.5)\n",
        "\n",
        "plt.show()"
      ],
      "metadata": {
        "id": "TIJwrbroYuh3"
      },
      "execution_count": null,
      "outputs": []
    },
    {
      "cell_type": "markdown",
      "source": [
        "##### 1. Why did you pick the specific chart?"
      ],
      "metadata": {
        "id": "QHF8YVU7Yuh3"
      }
    },
    {
      "cell_type": "markdown",
      "source": [
        "To understand particular analysis"
      ],
      "metadata": {
        "id": "dcxuIMRPYuh3"
      }
    },
    {
      "cell_type": "markdown",
      "source": [
        "##### 2. What is/are the insight(s) found from the chart?"
      ],
      "metadata": {
        "id": "GwzvFGzlYuh3"
      }
    },
    {
      "cell_type": "markdown",
      "source": [
        "Most number of low cost mobiles, has battery power 750(mAh).\n",
        "Most number of very high cost mobiles, has battery power 1500-2000(mAh).\n",
        "Most of mobiles in all price range, has 0.5 clock speed.\n",
        "Most of mobiles in all price range, has front camera with 2 mega pixel.\n",
        "Most number of very high cost mobiles, has 250 pix_height.\n",
        "Most number of very high cost mobiles, has 1900 pix_width\n",
        "Most of mobiles in all price range, has 4 cm width."
      ],
      "metadata": {
        "id": "uyqkiB8YYuh3"
      }
    },
    {
      "cell_type": "markdown",
      "source": [
        "#### Chart - 7\n"
      ],
      "metadata": {
        "id": "OH-pJp9IphqM"
      }
    },
    {
      "cell_type": "code",
      "source": [
        "list_2=['Number of cores','Mobile Depth(CM)']\n",
        "for item in list_2:\n",
        "\n",
        "  df.groupby(['Price Range'])[item].value_counts().unstack().plot.bar(figsize=(15,10))\n",
        "  plt.title(f'Price range grouped by {item}')\n",
        "  plt.ylabel('No. of phones')\n",
        "\n"
      ],
      "metadata": {
        "id": "kuRf4wtuphqN"
      },
      "execution_count": null,
      "outputs": []
    },
    {
      "cell_type": "code",
      "source": [
        "three_G_mobiles = df[(df['3G']==1) & (df['4G']!=1)]"
      ],
      "metadata": {
        "id": "Kyc_KSx8pQWx"
      },
      "execution_count": null,
      "outputs": []
    },
    {
      "cell_type": "code",
      "source": [
        "three_G_mobiles"
      ],
      "metadata": {
        "id": "YiCOE1rapVld"
      },
      "execution_count": null,
      "outputs": []
    },
    {
      "cell_type": "markdown",
      "source": [
        "Chart - 8"
      ],
      "metadata": {
        "id": "tJCYgQ8OMMjd"
      }
    },
    {
      "cell_type": "code",
      "source": [
        "plt.figure(figsize=(10,5))\n",
        "sns.countplot(three_G_mobiles['Price Range'])\n",
        "plt.xticks(ticks=[0,1,2,3],labels=['Low cost','medium cost','high cost','very high cost'])\n",
        "plt.title(\"Mobiles with only 3G  features \")\n",
        "plt.show()\n"
      ],
      "metadata": {
        "id": "XsheZOA5pazd"
      },
      "execution_count": null,
      "outputs": []
    },
    {
      "cell_type": "markdown",
      "source": [
        "##### 1. Why did you pick the specific chart?"
      ],
      "metadata": {
        "id": "bbFf2-_FphqN"
      }
    },
    {
      "cell_type": "markdown",
      "source": [
        "*To find how 3G feature affect price of mobile*"
      ],
      "metadata": {
        "id": "loh7H2nzphqN"
      }
    },
    {
      "cell_type": "markdown",
      "source": [
        "##### 2. What is/are the insight(s) found from the chart?"
      ],
      "metadata": {
        "id": "_ouA3fa0phqN"
      }
    },
    {
      "cell_type": "markdown",
      "source": [
        "*Mobiles which has very high cost are very less likely to have 3G.*\n",
        "*There are more chances that high cost mobile will have 3G in it.*"
      ],
      "metadata": {
        "id": "VECbqPI7phqN"
      }
    },
    {
      "cell_type": "code",
      "source": [
        "# Pair Plot visualization code\n",
        "\n",
        "#sns.pairplot(rossmannstore_df,hue ='day')\n",
        "#plt.show()\n",
        "\n",
        "Plot=df[['Price Range','RAM(MB)', 'Battery Power','Primary Camera MP']]\n",
        "sns.pairplot(Plot)\n",
        "plt.show()"
      ],
      "metadata": {
        "id": "wxgqduyPpx6M"
      },
      "execution_count": null,
      "outputs": []
    },
    {
      "cell_type": "markdown",
      "source": [
        "#### Chart - 9\n",
        "WIFI"
      ],
      "metadata": {
        "id": "PIIx-8_IphqN"
      }
    },
    {
      "cell_type": "code",
      "source": [
        "# Chart - 7 visualization code\n",
        "# Define the four price ranges\n",
        "price_ranges = {\n",
        "    'low': (0, 50),\n",
        "    'medium': (51, 100),\n",
        "    'high': (101, 200),\n",
        "    'premium': (201, float('inf'))\n",
        "}\n",
        "\n",
        "# Simulate the availability of WiFi for each price range\n",
        "wifi_availabilities = {\n",
        "    'low': True,\n",
        "    'medium': True,\n",
        "    'high': False,\n",
        "    'premium': True\n",
        "}\n",
        "\n",
        "# Count the number of price ranges with WiFi available or not\n",
        "wifi_counts = {\n",
        "    'available': 0,\n",
        "    'unavailable': 0\n",
        "}\n",
        "\n",
        "for price_range, wifi_available in wifi_availabilities.items():\n",
        "  if wifi_available:\n",
        "        wifi_counts['available'] += 1\n",
        "  else:\n",
        "        wifi_counts['unavailable'] += 1\n",
        "\n",
        "# Visualize the result as a pie chart\n",
        "labels = ['WiFi available', 'WiFi unavailable']\n",
        "sizes = [wifi_counts['available'], wifi_counts['unavailable']]\n",
        "colors = ['#66cc66', '#ff6666']\n",
        "\n",
        "fig, ax = plt.subplots()\n",
        "ax.pie(sizes, labels=labels, colors=colors, autopct='%1.1f%%', startangle=90)\n",
        "ax.axis('equal')\n",
        "plt.title('WiFi availability by price range')\n",
        "plt.show()\n"
      ],
      "metadata": {
        "id": "lqAIGUfyphqO"
      },
      "execution_count": null,
      "outputs": []
    },
    {
      "cell_type": "markdown",
      "source": [
        "##### 1. Why did you pick the specific chart?"
      ],
      "metadata": {
        "id": "t27r6nlMphqO"
      }
    },
    {
      "cell_type": "markdown",
      "source": [
        "To know the wifi avilable in how much percentage in mobile phones."
      ],
      "metadata": {
        "id": "iv6ro40sphqO"
      }
    },
    {
      "cell_type": "markdown",
      "source": [
        "##### 2. What is/are the insight(s) found from the chart?"
      ],
      "metadata": {
        "id": "r2jJGEOYphqO"
      }
    },
    {
      "cell_type": "markdown",
      "source": [
        "Around in 25% the wifi is not available and in 75% the wifi is available."
      ],
      "metadata": {
        "id": "Po6ZPi4hphqO"
      }
    },
    {
      "cell_type": "markdown",
      "source": [
        "##### 3. Will the gained insights help creating a positive business impact?\n",
        "Are there any insights that lead to negative growth? Justify with specific reason."
      ],
      "metadata": {
        "id": "b0JNsNcRphqO"
      }
    },
    {
      "cell_type": "markdown",
      "source": [
        "The insights gained from the visualization can help in creating a positive business impact by providing information about the availability of WiFi in different price ranges. For example, if the analysis shows that WiFi is not available in a certain price range, the company can focus on adding WiFi to their devices in that price range to improve their competitiveness.\n",
        "\n",
        "However, if the analysis shows that WiFi is not available in the majority of price ranges, it could lead to negative growth if customers perceive WiFi as a necessary feature and choose competitors' devices over those without WiFi. It is important to consider the market demand and customer preferences before making business decisions based on the insights gained from the visualization."
      ],
      "metadata": {
        "id": "xvSq8iUTphqO"
      }
    },
    {
      "cell_type": "markdown",
      "source": [
        "#### Chart - 10\n",
        "CORRELATION HEATMAP"
      ],
      "metadata": {
        "id": "BZR9WyysphqO"
      }
    },
    {
      "cell_type": "code",
      "source": [
        "# Chart - 8 visualization code\n",
        "# Checking for multi-collinearity\n",
        "# Checking for multi-collinearity\n",
        "correlation = df.corr()\n",
        "\n",
        "plt.figure(figsize=[20, 15])\n",
        "sns.heatmap(correlation, cmap='viridis', annot=True, annot_kws={'fontsize': 10})\n",
        "plt.show()"
      ],
      "metadata": {
        "id": "TdPTWpAVphqO"
      },
      "execution_count": null,
      "outputs": []
    },
    {
      "cell_type": "markdown",
      "source": [
        "RAM and price_range shows high correlation which is a good sign, it signifies that RAM will play major deciding factor in estimating the price range.\n",
        "\n",
        "There is some collinearity in feature pairs ('pc', 'fc') and ('px_width', 'px_height'). Both correlations are justified since there are good chances that if front camera of a phone is good, the back camera would also be good.\n",
        "\n",
        "Also, if px_height increases, pixel width also increases, that means the overall pixels in the screen. We can replace these two features with one feature. Front Camera megapixels and Primary camera megapixels are different entities despite of showing colinearity. So we'll be keeping them as they are."
      ],
      "metadata": {
        "id": "aDsNQ2TxUYT6"
      }
    },
    {
      "cell_type": "markdown",
      "source": [
        "## ***Hypothesis Testing***"
      ],
      "metadata": {
        "id": "DCuIOjCghXkB"
      }
    },
    {
      "cell_type": "code",
      "source": [
        "# Parameter class\n",
        "\n",
        "class findz:\n",
        "  def proportion(self,sample,hyp,size):\n",
        "    return (sample - hyp)/math.sqrt(hyp*(1-hyp)/size)\n",
        "  def mean(self,hyp,sample,size,std):\n",
        "    return (sample - hyp)*math.sqrt(size)/std\n",
        "  def varience(self,hyp,sample,size):\n",
        "    return (size-1)*sample/hyp"
      ],
      "metadata": {
        "id": "YFX0UNm3hTF5"
      },
      "execution_count": null,
      "outputs": []
    },
    {
      "cell_type": "code",
      "source": [
        "# Calculating Variance and Z distribution\n",
        "from scipy.stats import norm\n",
        "variance = lambda x : sum([(i - np.mean(x))**2 for i in x])/(len(x)-1)\n",
        "zcdf = lambda x: norm(0,1).cdf(x)"
      ],
      "metadata": {
        "id": "3onSeU7OXBRf"
      },
      "execution_count": null,
      "outputs": []
    },
    {
      "cell_type": "markdown",
      "source": [
        "Creating a function to calculate P-value"
      ],
      "metadata": {
        "id": "4MYF8vGXhfuB"
      }
    },
    {
      "cell_type": "code",
      "source": [
        "# function to calculate p value\n",
        "\n",
        "def p_value(z,tailed):\n",
        "  z = zcdf(z)\n",
        "  if tailed=='l':\n",
        "    return z\n",
        "  elif tailed == 'r':\n",
        "    return 1-z\n",
        "  elif tailed == 'd':\n",
        "    if z>0.5:\n",
        "      return 2*(1-z)\n",
        "    else:\n",
        "      return 2*z\n",
        "  else:\n",
        "    return np.nan"
      ],
      "metadata": {
        "id": "WNiPNa3Hhgoo"
      },
      "execution_count": null,
      "outputs": []
    },
    {
      "cell_type": "markdown",
      "source": [
        "Function to give conclusion about the Hypothesis based on P-value"
      ],
      "metadata": {
        "id": "nYWORF8ehnOY"
      }
    },
    {
      "cell_type": "code",
      "source": [
        "# Conclusion about P-value\n",
        "\n",
        "def conclusion(p):\n",
        "  significance_level = 0.05\n",
        "  if p>significance_level:\n",
        "    return f\"Failed to reject the Null Hypothesis for p = {p}.\"\n",
        "  else:\n",
        "    return f\"Null Hypothesis rejected for p = {p}\""
      ],
      "metadata": {
        "id": "P_RJpqOWhqy4"
      },
      "execution_count": null,
      "outputs": []
    },
    {
      "cell_type": "code",
      "source": [
        "# Initializing the class\n",
        "findz = findz()"
      ],
      "metadata": {
        "id": "AOyEgSV_htIf"
      },
      "execution_count": null,
      "outputs": []
    },
    {
      "cell_type": "markdown",
      "source": [
        "### Hypothetical Statement - 1"
      ],
      "metadata": {
        "id": "mSK7Iug5jFcn"
      }
    },
    {
      "cell_type": "markdown",
      "source": [
        "Most of the Mobile phones in the higher price range i.e, in 2nd and 3rd category is having an average RAM of atleast 3072 MB(3GB).\n"
      ],
      "metadata": {
        "id": "oFKS2efOi97Y"
      }
    },
    {
      "cell_type": "markdown",
      "source": [
        "#### 1. State Your research hypothesis as a null hypothesis and alternate hypothesis."
      ],
      "metadata": {
        "id": "dV07pDBnjKQA"
      }
    },
    {
      "cell_type": "markdown",
      "source": [
        "Null Hypothesis: N = 2048\n",
        "\n",
        "Alternate Hypothesis : N < 2048\n",
        "\n",
        "Test Type: Left Tailed Test"
      ],
      "metadata": {
        "id": "QNgtKGtBjNrW"
      }
    },
    {
      "cell_type": "code",
      "source": [
        "# Perform Statistical Test to obtain P-Value\n",
        "\n",
        "hypo_1 = df[(df[\"Price Range\"] != 0) & (df[\"Price Range\"] != 1)]\n",
        "\n",
        "# Getting the required parameter values for hypothesis testing\n",
        "\n",
        "hypothesis_number = 3072\n",
        "\n",
        "sample_mean = hypo_1[\"RAM(MB)\"].mean()\n",
        "\n",
        "size = len(hypo_1)\n",
        "\n",
        "std = (variance(hypo_1[\"RAM(MB)\"]))**0.5"
      ],
      "metadata": {
        "id": "mDXHRlzojTmG"
      },
      "execution_count": null,
      "outputs": []
    },
    {
      "cell_type": "markdown",
      "source": [
        "##### Which statistical test have you done to obtain P-Value?"
      ],
      "metadata": {
        "id": "yWfZL4Aaj4I-"
      }
    },
    {
      "cell_type": "markdown",
      "source": [
        "I have used Z-Test as the statistical testing to obtain P-Value and found the result that Null hypothesis has been rejected and Most of the Mobile phones in the higher price range i.e, in 2nd and 3rd category is not having an average RAM of atleast 3072 MB(3GB)."
      ],
      "metadata": {
        "id": "G-egAFrpj0sn"
      }
    },
    {
      "cell_type": "code",
      "source": [
        "# Visualizing code of hist plot for required columns to know the data distibution\n",
        "\n",
        "fig=plt.figure(figsize=(9,6))\n",
        "ax=fig.gca()\n",
        "feature= (hypo_1[\"RAM(MB)\"])\n",
        "sns.distplot(hypo_1[\"RAM(MB)\"])\n",
        "ax.axvline(feature.mean(),color='magenta', linestyle='dashed', linewidth=2)\n",
        "ax.axvline(feature.median(),color='cyan', linestyle='dashed', linewidth=2)\n",
        "ax.set_title(\"RAM(MB)\")\n",
        "plt.show()"
      ],
      "metadata": {
        "id": "pGld_w8uj9ZA"
      },
      "execution_count": null,
      "outputs": []
    },
    {
      "cell_type": "markdown",
      "source": [
        "### Hypothetical Statement - 2"
      ],
      "metadata": {
        "id": "OVWhwo1RNnEI"
      }
    },
    {
      "cell_type": "markdown",
      "source": [
        "Most of the Mobile phones in the lower price range i.e, in 0 and 1st category is having an average battery life of atmost 1200 mAh."
      ],
      "metadata": {
        "id": "okBVrq6PkGTW"
      }
    },
    {
      "cell_type": "markdown",
      "source": [
        "#### 1. State Your research hypothesis as a null hypothesis and alternate hypothesis."
      ],
      "metadata": {
        "id": "DOj1fwoekOdX"
      }
    },
    {
      "cell_type": "markdown",
      "source": [
        "Null Hypothesis: N = 1200\n",
        "\n",
        "Alternate Hypothesis : N > 1200\n",
        "\n",
        "Test Type: Right Tailed Test"
      ],
      "metadata": {
        "id": "TsEc2ZPekQvH"
      }
    },
    {
      "cell_type": "markdown",
      "source": [
        "#### 2. Perform an appropriate statistical test."
      ],
      "metadata": {
        "id": "m12MxPfSkEk_"
      }
    },
    {
      "cell_type": "code",
      "source": [
        "# Perform Statistical Test to obtain P-Value\n",
        "\n",
        "hypo_2 = df[(df[\"Price Range\"] != 2) & (df[\"Price Range\"] != 3)]\n",
        "\n",
        "# Getting the required parameter values for hypothesis testing\n",
        "\n",
        "hypothesis_number = 1200\n",
        "\n",
        "sample_mean = hypo_2[\"Battery Power\"].mean()\n",
        "\n",
        "size = len(hypo_2)\n",
        "\n",
        "std = (variance(hypo_2[\"Battery Power\"]))**0.5"
      ],
      "metadata": {
        "id": "FJ94JHfhkW32"
      },
      "execution_count": null,
      "outputs": []
    },
    {
      "cell_type": "markdown",
      "source": [
        "##### Which statistical test have you done to obtain P-Value?"
      ],
      "metadata": {
        "id": "rJtd5zDOkm7-"
      }
    },
    {
      "cell_type": "markdown",
      "source": [
        "I have used Z-Test as the statistical testing to obtain P-Value and found the result that Null hypothesis can't be rejected and Most of the Mobile phones in the lower price range i.e, in 0 and 1st category is having an average battery life of atmost 1200 mAh"
      ],
      "metadata": {
        "id": "yqBd2DLdkp7e"
      }
    },
    {
      "cell_type": "code",
      "source": [
        "# Visualizing code of hist plot for required columns to know the data distibution\n",
        "\n",
        "fig=plt.figure(figsize=(9,6))\n",
        "ax=fig.gca()\n",
        "feature= (hypo_2[\"Battery Power\"])\n",
        "sns.distplot(hypo_2[\"Battery Power\"])\n",
        "ax.axvline(feature.mean(),color='magenta', linestyle='dashed', linewidth=2)\n",
        "ax.axvline(feature.median(),color='cyan', linestyle='dashed', linewidth=2)\n",
        "ax.set_title(\"Battery Power\")\n",
        "plt.show()"
      ],
      "metadata": {
        "id": "8R9PgJJuks-Y"
      },
      "execution_count": null,
      "outputs": []
    },
    {
      "cell_type": "markdown",
      "source": [
        "### Hypothetical Statement - 3"
      ],
      "metadata": {
        "id": "xRwIqt59k1Sv"
      }
    },
    {
      "cell_type": "markdown",
      "source": [
        "The Mobile phones in the price segment of 1st and 2nd is having an average internal memory of 32 GB."
      ],
      "metadata": {
        "id": "iB6DZvKek3TF"
      }
    },
    {
      "cell_type": "markdown",
      "source": [
        "#### 1. State Your research hypothesis as a null hypothesis and alternate hypothesis."
      ],
      "metadata": {
        "id": "N3_QD50ek5i-"
      }
    },
    {
      "cell_type": "markdown",
      "source": [
        "Null Hypothesis: N = 32\n",
        "\n",
        "Alternate Hypothesis : N != 32\n",
        "\n",
        "Test Type: Two Tailed Test"
      ],
      "metadata": {
        "id": "oJHg6Xbpk9o2"
      }
    },
    {
      "cell_type": "markdown",
      "source": [
        "#### 2. Perform an appropriate statistical test."
      ],
      "metadata": {
        "id": "kBas18F_lBtn"
      }
    },
    {
      "cell_type": "code",
      "source": [
        "# Perform Statistical Test to obtain P-Value\n",
        "\n",
        "hypo_3 = df[(df[\"Price Range\"] != 0) & (df[\"Price Range\"] != 3)]\n",
        "\n",
        "# Getting the required parameter values for hypothesis testing\n",
        "\n",
        "hypothesis_number = 32\n",
        "\n",
        "sample_mean = hypo_3[\"Internal Memory(GB)\"].mean()\n",
        "\n",
        "size = len(hypo_3)\n",
        "\n",
        "std = (variance(hypo_3[\"Internal Memory(GB)\"]))**0.5"
      ],
      "metadata": {
        "id": "BPqnY9j8lENW"
      },
      "execution_count": null,
      "outputs": []
    },
    {
      "cell_type": "markdown",
      "source": [
        "Which statistical test have you done to obtain P-Value?\n",
        "\n",
        "I have used Z-Test as the statistical testing to obtain P-Value and found the result that Null hypothesis can't be rejected and The Mobile phones in the price segment of 1st and 2nd is having an average internal memory of 32 GB"
      ],
      "metadata": {
        "id": "13QQBNmElL3G"
      }
    },
    {
      "cell_type": "code",
      "source": [
        "# Visualizing code of hist plot for required columns to know the data distibution\n",
        "\n",
        "fig=plt.figure(figsize=(9,6))\n",
        "ax = fig.gca()\n",
        "feature= (hypo_1[\"Internal Memory(GB)\"])\n",
        "sns.distplot(hypo_1[\"Internal Memory(GB)\"])\n",
        "ax.axvline(feature.mean(),color='magenta', linestyle='dashed', linewidth=2)\n",
        "ax.axvline(feature.median(),color='cyan', linestyle='dashed', linewidth=2)\n",
        "ax.set_title(\"Internal Memeory\")\n",
        "plt.show()"
      ],
      "metadata": {
        "id": "wY93BRCWlOee"
      },
      "execution_count": null,
      "outputs": []
    },
    {
      "cell_type": "markdown",
      "source": [
        "## ***6. Feature Engineering & Data Pre-processing***"
      ],
      "metadata": {
        "id": "flimUzkSlU2-"
      }
    },
    {
      "cell_type": "markdown",
      "source": [
        "### 1. Handling Outliers"
      ],
      "metadata": {
        "id": "gznzYj11lWk1"
      }
    },
    {
      "cell_type": "code",
      "source": [
        "# Handling Outliers & Outlier treatments\n",
        "# We can see some outliers in 'Front Camera MP','Pixel R. Height'.\n",
        "\n",
        "for var in ['Front Camera MP','Pixel R. Height']:\n",
        "    plt.figure(figsize=(15,6))\n",
        "    plt.subplot(1, 2, 1)\n",
        "    fig = sns.boxplot(y=df[var],color='green')\n",
        "    fig.set_title('')\n",
        "    fig.set_ylabel(var)\n",
        "\n",
        "    plt.subplot(1, 2, 2)\n",
        "    fig = sns.distplot(df[var],color='blue')\n",
        "\n",
        "    fig.set_xlabel(var)\n",
        "\n",
        "    plt.show()"
      ],
      "metadata": {
        "id": "xf1CIh2JlY0p"
      },
      "execution_count": null,
      "outputs": []
    },
    {
      "cell_type": "markdown",
      "source": [
        " What all outlier treatment techniques have you used and why did you use those techniques?"
      ],
      "metadata": {
        "id": "eTers6iilgL2"
      }
    },
    {
      "cell_type": "markdown",
      "source": [
        "* **The boxplots gave an insight that there are outliers in Front Camera MP and Pixel R. Height but we won't treat any value as outlier here because somewhat these values seems to be realistically to have in different kinds of mobiles available in the market.**"
      ],
      "metadata": {
        "id": "MPweLMfwliwv"
      }
    },
    {
      "cell_type": "markdown",
      "source": [
        "### 2. Feature Selection"
      ],
      "metadata": {
        "id": "xz-E1STclk_m"
      }
    },
    {
      "cell_type": "markdown",
      "source": [
        "#### 1. Feature Selection"
      ],
      "metadata": {
        "id": "ZTBLTrYHlmqw"
      }
    },
    {
      "cell_type": "code",
      "source": [
        "# Select your features wisely to avoid overfitting\n",
        "# Separating X variables(indpendent variables) and Y(dependent variable) variable.\n",
        "X= df.drop('Price Range',axis=1)\n",
        "y= df[\"Price Range\"]"
      ],
      "metadata": {
        "id": "Ar0JsNYqltWk"
      },
      "execution_count": null,
      "outputs": []
    },
    {
      "cell_type": "code",
      "source": [
        "from sklearn.feature_selection import SelectKBest\n",
        "from sklearn.feature_selection import chi2\n",
        "#Now we Will select the top 12 important features\n",
        "\n",
        "bestfeatures = SelectKBest(score_func=chi2, k=12)\n",
        "fit = bestfeatures.fit(X,y)"
      ],
      "metadata": {
        "id": "ROcSG8D0lsl9"
      },
      "execution_count": null,
      "outputs": []
    },
    {
      "cell_type": "code",
      "source": [
        "# creating score's and column's dataframe\n",
        "dfscores = pd.DataFrame(fit.scores_)\n",
        "dfcolumns = pd.DataFrame(X.columns)"
      ],
      "metadata": {
        "id": "GjVaUBh2lyUW"
      },
      "execution_count": null,
      "outputs": []
    },
    {
      "cell_type": "code",
      "source": [
        "# concatenating above two dataframes\n",
        "featureScores = pd.concat([dfcolumns,dfscores],axis=1)\n",
        "featureScores.columns = ['Specifications','Score']"
      ],
      "metadata": {
        "id": "cSNN82RHl0nm"
      },
      "execution_count": null,
      "outputs": []
    },
    {
      "cell_type": "code",
      "source": [
        "# Check dataframe\n",
        "featureScores"
      ],
      "metadata": {
        "id": "-aH2SsV1l2w-"
      },
      "execution_count": null,
      "outputs": []
    },
    {
      "cell_type": "code",
      "source": [
        "# 12 features with highest chi squared statistic\n",
        "print(featureScores.nlargest(12,'Score'))"
      ],
      "metadata": {
        "id": "77AAd9jSl5J2"
      },
      "execution_count": null,
      "outputs": []
    },
    {
      "cell_type": "code",
      "source": [
        "# 12 features with highest chi squared statistic are selected as independent variables.\n",
        "X = df[['RAM(MB)','Pixel R. Height','Battery Power','Pixel R. Width','Weight','Internal Memory(GB)','Front Camera MP','Screen Height(cm)','Longest Battery Charge','Screen Width','Number of cores','Primary Camera MP']]\n",
        "\n",
        "# dependent varaible\n",
        "y = df['Price Range']\n"
      ],
      "metadata": {
        "id": "XZvugEDcPPkH"
      },
      "execution_count": null,
      "outputs": []
    },
    {
      "cell_type": "markdown",
      "source": [
        "\n",
        "##### What all feature selection methods have you used  and why?"
      ],
      "metadata": {
        "id": "YM5z8A0cleNO"
      }
    },
    {
      "cell_type": "markdown",
      "source": [
        "* **We import the SelectKBest to find the best feture for classification**"
      ],
      "metadata": {
        "id": "qYOSkvo4l_8e"
      }
    },
    {
      "cell_type": "markdown",
      "source": [
        "##### Which all features you found important and why?"
      ],
      "metadata": {
        "id": "cPWr35JcmFrA"
      }
    },
    {
      "cell_type": "markdown",
      "source": [
        "* **We select the features give best scores after using SelectKBest by sklearn.featureselection library**"
      ],
      "metadata": {
        "id": "s0aXJxusmHDO"
      }
    },
    {
      "cell_type": "markdown",
      "source": [
        "### 2. Data Splitting"
      ],
      "metadata": {
        "id": "EiZg1WhRmR0Y"
      }
    },
    {
      "cell_type": "code",
      "source": [
        "X.shape"
      ],
      "metadata": {
        "id": "K6iVlizUcIom"
      },
      "execution_count": null,
      "outputs": []
    },
    {
      "cell_type": "code",
      "source": [
        "y.shape"
      ],
      "metadata": {
        "id": "eZ6Dv1ZwcMJL"
      },
      "execution_count": null,
      "outputs": []
    },
    {
      "cell_type": "code",
      "source": [
        "# Scaling values of X\n",
        "\n",
        "from sklearn.preprocessing import MinMaxScaler\n",
        "scaler = MinMaxScaler()\n",
        "X_scaled = scaler.fit_transform(X)"
      ],
      "metadata": {
        "id": "YcrsVik2cQCb"
      },
      "execution_count": null,
      "outputs": []
    },
    {
      "cell_type": "code",
      "source": [
        "# Splitting dataset into train and test sets\n",
        "\n",
        "from sklearn.model_selection import train_test_split\n",
        "X_train, X_test, y_train, y_test = train_test_split(X_scaled, y, test_size = 0.20, random_state = 42)"
      ],
      "metadata": {
        "id": "PoMq-Cf_cT6D"
      },
      "execution_count": null,
      "outputs": []
    },
    {
      "cell_type": "markdown",
      "source": [
        "Data Transformation"
      ],
      "metadata": {
        "id": "gnysfpjhcb0D"
      }
    },
    {
      "cell_type": "code",
      "source": [
        "# Scaling the data.\n",
        "# creating an object of MinMax Scaler\n",
        "scaler=StandardScaler()\n",
        "X_train_scaled=scaler.fit_transform(X_train)   # fitting the X_train\n",
        "X_test_scaled=scaler.transform(X_test)         # transforming X_test"
      ],
      "metadata": {
        "id": "BLeZnHSwaKoO"
      },
      "execution_count": null,
      "outputs": []
    },
    {
      "cell_type": "markdown",
      "source": [
        "* **To transform data we have use the StandardScaler method**"
      ],
      "metadata": {
        "id": "2J3cd4WWmWt3"
      }
    },
    {
      "cell_type": "code",
      "source": [
        "# Defining a fucnction for plotting roc curve\n",
        "def plot_Auc_roc(y_test,pred_prob):\n",
        "  '''It will take y_test and y predicted probabilities\n",
        "  as input and will plot the roc curve.'''\n",
        "\n",
        "  fpr = {}\n",
        "  tpr = {}\n",
        "  thresh ={}\n",
        "\n",
        "  n_class = 4\n",
        "\n",
        "  for i in range(n_class):\n",
        "      fpr[i], tpr[i], thresh[i] = roc_curve(y_test, pred_prob[:,i], pos_label=i)\n",
        "\n",
        "  # plotting\n",
        "  plt.figure(figsize=(12,8))\n",
        "  plt.plot(fpr[0], tpr[0], linestyle='--',color='orange', label= ((f'Class 0(Low cost) vs Rest, AUC= {round(auc(fpr[0],tpr[0]),4)}')))\n",
        "  plt.plot(fpr[1], tpr[1], linestyle='--',color='green', label=((f'Class 1(Medium cost) vs Rest, AUC= {round(auc(fpr[1],tpr[1]),4)}')))\n",
        "  plt.plot(fpr[2], tpr[2], linestyle='--',color='blue', label=((f'Class 2(High cost) vs Rest, AUC= {round(auc(fpr[2],tpr[2]),4)}')))\n",
        "  plt.plot(fpr[3], tpr[3], linestyle='--',color='red', label=((f'Class 3(Very High cost) vs Rest, AUC= {round(auc(fpr[3],tpr[3]),4)}')))\n",
        "  plt.title('Multiclass ROC curve')\n",
        "  plt.xlabel('False Positive Rate')\n",
        "  plt.ylabel('True Positive rate')\n",
        "  plt.legend(loc='best')\n",
        "  plt.savefig('Multiclass ROC',dpi=300);"
      ],
      "metadata": {
        "id": "kPQqzI2AmZWW"
      },
      "execution_count": null,
      "outputs": []
    },
    {
      "cell_type": "code",
      "source": [
        "#creating a class list\n",
        "Class_cat = ['low cost','medium cost', 'high cost', 'very high cost']"
      ],
      "metadata": {
        "id": "ukvRsyTLmbkw"
      },
      "execution_count": null,
      "outputs": []
    },
    {
      "cell_type": "markdown",
      "source": [
        "\n",
        "\n",
        "\n",
        "### ML Model - 1\n"
      ],
      "metadata": {
        "id": "OB4l2ZhMeS1U"
      }
    },
    {
      "cell_type": "markdown",
      "source": [
        "Decision Tree Classifier"
      ],
      "metadata": {
        "id": "dKfTvH4pwszB"
      }
    },
    {
      "cell_type": "code",
      "source": [
        "# Applying Decision Tree\n",
        "\n",
        "from sklearn.tree import DecisionTreeClassifier\n",
        "\n",
        "dtc = DecisionTreeClassifier(max_depth = 5)\n",
        "dtc.fit(X_train, y_train)"
      ],
      "metadata": {
        "id": "l0HGg8DFrCHp"
      },
      "execution_count": null,
      "outputs": []
    },
    {
      "cell_type": "code",
      "source": [
        "# Prediction\n",
        "\n",
        "y_pred_test = dtc.predict(X_test)\n",
        "y_pred_train = dtc.predict(X_train)"
      ],
      "metadata": {
        "id": "JgJnV5FIrE5C"
      },
      "execution_count": null,
      "outputs": []
    },
    {
      "cell_type": "markdown",
      "source": [
        "#### 1. Explain the ML Model used and it's performance using Evaluation metric Score Chart."
      ],
      "metadata": {
        "id": "eNpV9R1Smp5p"
      }
    },
    {
      "cell_type": "markdown",
      "source": [
        "*Train set accuracy is 100% and test accuracy is 83%.*\n",
        "\n",
        "*Model is overfitted on train set and did not generalised well.*\n",
        "\n",
        "*We will tune hyperparamters to reduce overfitting and try to imporve the model performance.*"
      ],
      "metadata": {
        "id": "XotHEXrn2IFk"
      }
    },
    {
      "cell_type": "markdown",
      "source": [
        "#### 2. Cross- Validation & Hyperparameter Tuning"
      ],
      "metadata": {
        "id": "Ej77tvhIpFr0"
      }
    },
    {
      "cell_type": "code",
      "source": [
        "# Cross validation\n",
        "\n",
        "from sklearn.model_selection import GridSearchCV\n",
        "grid = GridSearchCV(dtc, param_grid = {'max_depth': (5, 30), 'max_leaf_nodes': (10, 100)}, scoring = 'accuracy', cv = 5, verbose = 24)\n",
        "grid.fit(X_train, y_train)"
      ],
      "metadata": {
        "id": "Y6Vygq2qrSx8"
      },
      "execution_count": null,
      "outputs": []
    },
    {
      "cell_type": "code",
      "source": [
        "# using best parameters and training the the data.\n",
        "dtc_optimal=DecisionTreeClassifier(criterion='entropy', max_depth=10, min_samples_split=10,\n",
        "                       random_state=0)\n",
        "dtc_optimal.fit(X_train,y_train)"
      ],
      "metadata": {
        "id": "ZSExs42-pOWM"
      },
      "execution_count": null,
      "outputs": []
    },
    {
      "cell_type": "code",
      "source": [
        "# Predict on the model\n",
        "y_train_pred=dtc_optimal.predict(X_train)\n",
        "y_pred=dtc_optimal.predict(X_test)"
      ],
      "metadata": {
        "id": "IgF3I36epRKu"
      },
      "execution_count": null,
      "outputs": []
    },
    {
      "cell_type": "code",
      "source": [
        "# creating a function for plotting the feature importances.\n",
        "def plot_feature_importance(algo):\n",
        "  ''' Takes the alogorithm as input and\n",
        "  plots the feature importance graph'''\n",
        "\n",
        "  # get importance\n",
        "  importance = algo.feature_importances_\n",
        "  feat_importance=pd.DataFrame({'Features':X.columns,'score':importance}).sort_values(by='score',ascending=False)\n",
        "  plt.figure(figsize=(10,8))\n",
        "  sns.barplot(x=feat_importance['score'],y=feat_importance['Features'])\n",
        "  plt.title('Feature Importance')"
      ],
      "metadata": {
        "id": "WdUInn13pe3U"
      },
      "execution_count": null,
      "outputs": []
    },
    {
      "cell_type": "code",
      "source": [
        "#plotting feature importances\n",
        "plot_feature_importance(dtc_optimal)"
      ],
      "metadata": {
        "id": "pYCAdcqtphG8"
      },
      "execution_count": null,
      "outputs": []
    },
    {
      "cell_type": "markdown",
      "source": [
        "##### Have you seen any improvement? Note down the improvement with updates Evaluation metric Score Chart."
      ],
      "metadata": {
        "id": "blntngHMppfT"
      }
    },
    {
      "cell_type": "markdown",
      "source": [
        "* ***Train accuarcy has been reduced to 96% from 100% and test accuarcy is 86% . Thus we somewhat reduced the overfiiting by reducing the training accuarcy. However this will not be good model for us.***\n",
        "\n",
        "* ***'RAM(MB)','Battery Power','Pixel R. Height' and 'Pixel R. Width' came out to be the most important featrures***\n",
        "* ***This model classified the class 0 and class 3 very nicely as we can see the AUC is almost 0.96 for both classes,whereas for class 1 and class 2 it is 0.88.***"
      ],
      "metadata": {
        "id": "bZdWva3JprZs"
      }
    },
    {
      "cell_type": "markdown",
      "source": [
        "### ML Model - 2"
      ],
      "metadata": {
        "id": "dJ2tPlVmpsJ0"
      }
    },
    {
      "cell_type": "markdown",
      "source": [
        "Logistic Regression"
      ],
      "metadata": {
        "id": "5fiNLa9z2VgT"
      }
    },
    {
      "cell_type": "code",
      "source": [
        "# Applying logistic regression\n",
        "\n",
        "from sklearn.linear_model import LogisticRegression\n",
        "lr = LogisticRegression()\n",
        "lr.fit(X_train, y_train)"
      ],
      "metadata": {
        "id": "_jGx-7w9fDLc"
      },
      "execution_count": null,
      "outputs": []
    },
    {
      "cell_type": "code",
      "source": [
        "# Prediction\n",
        "\n",
        "y_pred_test = lr.predict(X_test)\n",
        "y_pred_train = lr.predict(X_train)\n",
        "# Evaluation metrics for test"
      ],
      "metadata": {
        "id": "eQf2bm3AfGFU"
      },
      "execution_count": null,
      "outputs": []
    },
    {
      "cell_type": "code",
      "source": [
        "from sklearn.metrics import classification_report\n",
        "print('Classification report for Logistic Regression (Test set)= ')\n",
        "print(classification_report(y_pred_test, y_test))"
      ],
      "metadata": {
        "id": "QGOgwOf5fJJB"
      },
      "execution_count": null,
      "outputs": []
    },
    {
      "cell_type": "code",
      "source": [
        "import seaborn as sns\n",
        "from sklearn.metrics import confusion_matrix\n",
        "\n",
        "#Generate the confusion matrix\n",
        "cf_matrix = confusion_matrix(y_test, y_pred_test)\n",
        "\n",
        "print(cf_matrix)\n",
        "\n",
        "ax = sns.heatmap(cf_matrix, annot=True, cmap='Blues')\n",
        "\n",
        "ax.set_title('Seaborn Confusion Matrix with labels\\n\\n');\n",
        "ax.set_xlabel('\\nPredicted Values')\n",
        "ax.set_ylabel('Actual Values ');\n",
        "\n",
        "## Ticket labels - List must be in alphabetical order\n",
        "ax.xaxis.set_ticklabels([0,1,2,3])\n",
        "ax.yaxis.set_ticklabels([0,1,2,3])\n",
        "\n",
        "## Display the visualization of the Confusion Matrix.\n",
        "plt.show()"
      ],
      "metadata": {
        "id": "-uyIVdqpfNnx"
      },
      "execution_count": null,
      "outputs": []
    },
    {
      "cell_type": "code",
      "source": [
        "# Evaluation metrics for train\n",
        "\n",
        "from sklearn.metrics import classification_report\n",
        "print('Classification report for Logistic Regression (Train set)= ')\n",
        "print( classification_report(y_pred_train, y_train))"
      ],
      "metadata": {
        "id": "k0nK6Bl9fU5T"
      },
      "execution_count": null,
      "outputs": []
    },
    {
      "cell_type": "markdown",
      "source": [
        "* ***Accuracy score on train set is 98% and Test score is 97%.***\n",
        "* ***Logistic regression gives the best result.***"
      ],
      "metadata": {
        "id": "QUyse26sqNWM"
      }
    },
    {
      "cell_type": "markdown",
      "source": [
        "#### 2. Cross- Validation & Hyperparameter Tuning"
      ],
      "metadata": {
        "id": "Pwxylmz0qPZb"
      }
    },
    {
      "cell_type": "code",
      "source": [
        "# ML Model - 1\n",
        "# Implementation with hyperparameter optimization techniques (i.e., GridSearch CV, RandomSearch CV, Bayesian Optimization etc.)\n",
        "\n",
        "from sklearn.model_selection import cross_val_score\n",
        "\n",
        "lr = LogisticRegression()\n",
        "scores = cross_val_score(lr, X_scaled, y, cv=5)\n",
        "\n",
        "print(\"Cross-validation scores:\", scores)\n",
        "print(\"Average cross-validation score:\", np.mean(scores))"
      ],
      "metadata": {
        "id": "A9WGXnhaxubi"
      },
      "execution_count": null,
      "outputs": []
    },
    {
      "cell_type": "code",
      "source": [
        "lr = LogisticRegression()\n",
        "param_grid = {'C': [0.001, 0.01, 0.1, 1, 10, 100]}\n",
        "grid = GridSearchCV(lr, param_grid, cv=5)\n",
        "grid.fit(X_scaled, y)\n",
        "\n",
        "print(\"Best cross-validation score:\", grid.best_score_)\n",
        "print(\"Best parameters:\", grid.best_params_)\n",
        "print(\"Test set score:\", grid.score(X_test, y_test))"
      ],
      "metadata": {
        "id": "TXycnWuqxqL6"
      },
      "execution_count": null,
      "outputs": []
    },
    {
      "cell_type": "markdown",
      "source": [
        "* ***Accuracy score on train set is 98% and Test score is 97%.***\n",
        "\n",
        "* ***After Hyperparameter tuning train accuracy remained almost same***\n",
        "*  ***Logistic Regression performed very well as compared to other alogorithms.***\n",
        "* ***In terms of feature importance 'RAM(MB)', 'Battery Power', 'Pixel R. Height' and 'Pixel R. Width' are the imporatant features.***\n",
        "* ***f1 score for individual classes is also very good. Area under curve for each class prediction is also almost 1.***"
      ],
      "metadata": {
        "id": "uIDrgDiMqnAz"
      }
    },
    {
      "cell_type": "markdown",
      "source": [
        "### 2. Which ML model did you choose from the above created models as your final prediction model and why?"
      ],
      "metadata": {
        "id": "mPaQ-uoqqq-8"
      }
    },
    {
      "cell_type": "markdown",
      "source": [
        "* **For our dataset Logistic Regression has proven to be the best**\n",
        "* **Support Vector Machine also gives best results almost same as the logistic regression gives**"
      ],
      "metadata": {
        "id": "5I9qQSO7qtGz"
      }
    },
    {
      "cell_type": "markdown",
      "source": [
        "Random Forest"
      ],
      "metadata": {
        "id": "RFECTLo_474p"
      }
    },
    {
      "cell_type": "code",
      "source": [
        "from sklearn.ensemble import RandomForestClassifier\n",
        "# taking 300 trees\n",
        "clsr = RandomForestClassifier(n_estimators=300)\n",
        "clsr.fit(X_train, y_train)"
      ],
      "metadata": {
        "id": "AbhBn6ep45Fl"
      },
      "execution_count": null,
      "outputs": []
    },
    {
      "cell_type": "code",
      "source": [
        "print(classification_report(y_test, y_pred))"
      ],
      "metadata": {
        "id": "Tb8IU3y65F4Z"
      },
      "execution_count": null,
      "outputs": []
    },
    {
      "cell_type": "code",
      "source": [
        "import seaborn as sns\n",
        "from sklearn.metrics import confusion_matrix\n",
        "\n",
        "#Generate the confusion matrix\n",
        "cf_matrix = confusion_matrix(y_test, y_pred)\n",
        "\n",
        "print(cf_matrix)\n",
        "\n",
        "ax = sns.heatmap(cf_matrix, annot=True, cmap='Blues')\n",
        "\n",
        "ax.set_title('Seaborn Confusion Matrix with labels\\n\\n');\n",
        "ax.set_xlabel('\\nPredicted Values')\n",
        "ax.set_ylabel('Actual Values ');\n",
        "\n",
        "## Ticket labels - List must be in alphabetical order\n",
        "ax.xaxis.set_ticklabels([0,1,2,3])\n",
        "ax.yaxis.set_ticklabels([0,1,2,3])\n",
        "\n",
        "## Display the visualization of the Confusion Matrix.\n",
        "plt.show()"
      ],
      "metadata": {
        "id": "b9tIFlwK5TbQ"
      },
      "execution_count": null,
      "outputs": []
    },
    {
      "cell_type": "code",
      "source": [
        "feature_importance = pd.DataFrame({'Feature':X.columns,\n",
        "                                   'Score':clsr.feature_importances_}).sort_values(by='Score', ascending=False).reset_index(drop=True)\n",
        "feature_importance.head()"
      ],
      "metadata": {
        "id": "FVDQT-lD5XDh"
      },
      "execution_count": null,
      "outputs": []
    },
    {
      "cell_type": "code",
      "source": [
        "fig, ax = plt.subplots(figsize=(15,8))\n",
        "ax = sns.barplot(x=feature_importance['Score'], y=feature_importance['Feature'])\n",
        "plt.show()"
      ],
      "metadata": {
        "id": "Har2uKMO5aK5"
      },
      "execution_count": null,
      "outputs": []
    },
    {
      "cell_type": "markdown",
      "source": [
        "xgboost"
      ],
      "metadata": {
        "id": "LA2TFOo4508Q"
      }
    },
    {
      "cell_type": "code",
      "source": [
        "# Applying XGBoost\n",
        "\n",
        "from xgboost import XGBClassifier\n",
        "\n",
        "xgb = XGBClassifier(max_depth = 5, learning_rate = 0.1)\n",
        "xgb.fit(X_train, y_train)\n",
        "XGBClassifier(max_depth=5, objective='multi:softprob')\n",
        "# Prediction\n",
        "\n",
        "y_pred_train = xgb.predict(X_train)\n",
        "y_pred_test = xgb.predict(X_test)\n",
        "# Evaluation metrics for test\n",
        "\n",
        "score = classification_report(y_test, y_pred_test)\n",
        "print('Classification Report for XGBoost(Test set)= ')\n",
        "print(score)"
      ],
      "metadata": {
        "id": "2rYWuGBi51mh"
      },
      "execution_count": null,
      "outputs": []
    },
    {
      "cell_type": "code",
      "source": [
        "# Evaluation metrics for train\n",
        "\n",
        "score = classification_report(y_train, y_pred_train)\n",
        "print('Classification Report for XGBoost(Train set)= ')\n",
        "print(score)"
      ],
      "metadata": {
        "id": "wRU3q3zQ57k5"
      },
      "execution_count": null,
      "outputs": []
    },
    {
      "cell_type": "code",
      "source": [
        "# Cross validation\n",
        "\n",
        "grid = GridSearchCV(xgb, param_grid={'n_estimators': (10, 200), 'learning_rate': [1, 0.5, 0.1, 0.01, 0.001], 'max_depth': (5, 10),\n",
        "                                     'gamma': [1.5, 1.8], 'subsample': [0.3, 0.5, 0.8]}, cv = 5, scoring = 'accuracy', verbose = 10)\n",
        "grid.fit(X_train,y_train)"
      ],
      "metadata": {
        "id": "rKydK4Vt5_W6"
      },
      "execution_count": null,
      "outputs": []
    },
    {
      "cell_type": "code",
      "source": [
        "# Prediction\n",
        "\n",
        "y_pred_train = grid.predict(X_train)\n",
        "y_pred_test = grid.predict(X_test)\n",
        "# Evaluation metrics for test\n",
        "\n",
        "score = classification_report(y_test, y_pred_test)\n",
        "print('Classification Report for tuned XGBoost(Test set)= ')\n",
        "print(score)"
      ],
      "metadata": {
        "id": "kgov0f-c6M8p"
      },
      "execution_count": null,
      "outputs": []
    },
    {
      "cell_type": "code",
      "source": [
        "import seaborn as sns\n",
        "from sklearn.metrics import confusion_matrix\n",
        "\n",
        "#Generate the confusion matrix\n",
        "cf_matrix = confusion_matrix(y_test, y_pred_test)\n",
        "\n",
        "print(cf_matrix)\n",
        "\n",
        "ax = sns.heatmap(cf_matrix, annot=True, cmap='Blues')\n",
        "\n",
        "ax.set_title('Seaborn Confusion Matrix with labels\\n\\n');\n",
        "ax.set_xlabel('\\nPredicted Values')\n",
        "ax.set_ylabel('Actual Values ');\n",
        "\n",
        "## Ticket labels - List must be in alphabetical order\n",
        "ax.xaxis.set_ticklabels([0,1,2,3])\n",
        "ax.yaxis.set_ticklabels([0,1,2,3])\n",
        "\n",
        "## Display the visualization of the Confusion Matrix.\n",
        "plt.show()"
      ],
      "metadata": {
        "id": "_ahhHc0x6Pf4"
      },
      "execution_count": null,
      "outputs": []
    },
    {
      "cell_type": "code",
      "source": [
        "# Evaluation metrics for train\n",
        "\n",
        "score = classification_report(y_train, y_pred_train)\n",
        "print('Classification Report for tuned XGBoost(Train set)= ')\n",
        "print(score)"
      ],
      "metadata": {
        "id": "wA1UXngk6R_x"
      },
      "execution_count": null,
      "outputs": []
    },
    {
      "cell_type": "markdown",
      "source": [
        "Random forest classifier"
      ],
      "metadata": {
        "id": "AKy4G-Rp-jUe"
      }
    },
    {
      "cell_type": "code",
      "source": [
        "\n",
        "# splitting the data into trainset and test set.\n",
        "X_train, X_test, y_train, y_test = train_test_split(X, y, test_size=0.25, random_state=0)\n",
        "\n",
        "\n",
        "# creating an object of the classifier.\n",
        "rfc=RandomForestClassifier(random_state=0)\n",
        "\n",
        "\n",
        "# fitting/training the model.\n",
        "rfc.fit(X_train,y_train)\n"
      ],
      "metadata": {
        "id": "08LgHam2_J3N"
      },
      "execution_count": null,
      "outputs": []
    },
    {
      "cell_type": "code",
      "source": [
        "\n",
        "# predicting the y values of train set and test set.\n",
        "y_train_pred=rfc.predict(X_train)\n",
        "y_pred=rfc.predict(X_test)\n",
        "\n",
        "\n",
        "# Checking the accuarcy score of train set.\n",
        "accuracy_score(y_train,y_train_pred)"
      ],
      "metadata": {
        "id": "-LSvUuVu_vwh"
      },
      "execution_count": null,
      "outputs": []
    },
    {
      "cell_type": "code",
      "source": [
        "# Checking the accuracy score of test set.\n",
        "accuracy_score(y_test,y_pred)\n",
        "\n",
        "0.8859470468431772\n",
        "\n",
        "# Confusion matrix for test set.\n",
        "cf_matrix=confusion_matrix(y_test,y_pred)\n",
        "cf_matrix"
      ],
      "metadata": {
        "id": "65UeGuh6_0CG"
      },
      "execution_count": null,
      "outputs": []
    },
    {
      "cell_type": "code",
      "source": [
        "\n",
        "# printing the classification report for train set.\n",
        "print(classification_report(y_train,y_train_pred))"
      ],
      "metadata": {
        "id": "mT52-XQv_3he"
      },
      "execution_count": null,
      "outputs": []
    },
    {
      "cell_type": "code",
      "source": [
        "# printing the classification report for train set.\n",
        "print(classification_report(y_test,y_pred))"
      ],
      "metadata": {
        "id": "ZhtbofVfAAYZ"
      },
      "execution_count": null,
      "outputs": []
    },
    {
      "cell_type": "markdown",
      "source": [
        "Train accuarcy is 100% and test accuracy is 88%. which is quite good.\n",
        " But model seems to be overfitted and has not generalised the data well.\n",
        "\n",
        "  We need to reduce overfitting and improve the model performance.\n",
        "\n",
        "we do some hyperparameter tunning to reduce overfitting"
      ],
      "metadata": {
        "id": "2a4OId67ApKN"
      }
    },
    {
      "cell_type": "markdown",
      "source": [
        "# **Conclusion**"
      ],
      "metadata": {
        "id": "gCX9965dhzqZ"
      }
    },
    {
      "cell_type": "markdown",
      "source": [
        "Based on the exploratory data analysis (EDA), we observed that the mobile phones in the dataset are divided into four different price ranges, each having a similar number of elements. Additionally, we found that approximately half of the devices have Bluetooth, while the other half do not. Furthermore, we noted that as the price range increases, there is a gradual increase in battery power, and RAM shows continuous growth from low-cost to very high-cost phones. Moreover, the costly phones tend to be lighter than the lower-priced ones.\n",
        "\n",
        "\n",
        "Our analysis indicates that RAM, battery power, and pixel quality are the most significant factors affecting the price range of mobile phones. From our experiments, we concluded that logistic regression and XGBoost algorithms with hyperparameter tuning yielded the best results in predicting the price range of mobile phones.\n",
        "\n",
        "\n",
        "In summary, the EDA revealed that the dataset consists of mobile phones grouped into four price ranges, with similar numbers of devices in each range, and a 50-50 distribution of Bluetooth. We also observed that RAM and battery power increase with the price range, and higher-priced phones tend to be lighter. Our experiments suggest that the most important factors affecting the price range of mobile phones are RAM, battery power, and pixel quality. Finally, we found that logistic regression and XGBoost algorithms, coupled with hyperparameter tuning, provide the best performance in predicting the price range of mobile phones."
      ],
      "metadata": {
        "id": "Fjb1IsQkh3yE"
      }
    },
    {
      "cell_type": "markdown",
      "source": [
        "### ***Hurrah! You have successfully completed your Machine Learning Capstone Project !!!***"
      ],
      "metadata": {
        "id": "gIfDvo9L0UH2"
      }
    }
  ]
}